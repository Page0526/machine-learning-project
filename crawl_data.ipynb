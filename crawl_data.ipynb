{
 "cells": [
  {
   "cell_type": "markdown",
   "id": "4ed2b4d1",
   "metadata": {},
   "source": [
    "> [!NOTE]  \n",
    "> Chạy những cell t note vào thôi nhé"
   ]
  },
  {
   "cell_type": "code",
   "execution_count": 1,
   "id": "initial_id",
   "metadata": {
    "ExecuteTime": {
     "end_time": "2024-05-01T00:22:51.694182Z",
     "start_time": "2024-05-01T00:22:50.905418Z"
    },
    "collapsed": true
   },
   "outputs": [],
   "source": [
    "from selenium import webdriver\n",
    "from selenium.common import NoSuchElementException\n",
    "from selenium.webdriver.common.by import By\n",
    "from selenium.webdriver.edge.service import Service\n",
    "from selenium.webdriver.support.ui import WebDriverWait\n",
    "from selenium.webdriver.support import expected_conditions as EC\n",
    "from selenium.webdriver.edge.options import Options\n",
    "from webdriver_manager.microsoft import EdgeChromiumDriverManager  # To download Edge WebDriver\n",
    "from selenium.common.exceptions import NoSuchElementException\n",
    "from itertools import chain\n",
    "import pandas as pd\n",
    "import os\n",
    "import time\n",
    "import numpy as np"
   ]
  },
  {
   "cell_type": "code",
   "execution_count": 2,
   "id": "54162282",
   "metadata": {},
   "outputs": [],
   "source": [
    "edge_options = Options()\n",
    "edge_options.add_argument('--disable-blink-features=AutomationControlled')\n",
    "edge_options.add_argument(\"--disable-extensions\")\n",
    "edge_options.add_argument(\"--no-sandbox\")\n",
    "edge_options.add_argument(\"--headless\")"
   ]
  },
  {
   "cell_type": "code",
   "execution_count": 3,
   "id": "b299611adbc2d887",
   "metadata": {
    "ExecuteTime": {
     "end_time": "2024-05-01T00:24:05.733130Z",
     "start_time": "2024-05-01T00:23:54.084356Z"
    }
   },
   "outputs": [],
   "source": [
    "# Set up the Edge WebDriver\n",
    "service = Service(EdgeChromiumDriverManager().install())\n",
    "driver = webdriver.Edge(service=service,options = edge_options)  # Use the Edge WebDriver\n",
    "# click on year to get table function, get url of each year\n",
    "ori_url = \"https://www.boxofficemojo.com/year/world/?ref_=bo_nb_di_tab\"\n",
    "def getURL(ori_url):\n",
    "    driver.get(ori_url)\n",
    "    # driver.implicitly_wait(5)\n",
    "    time.sleep(2)\n",
    "    open_list = driver.find_element(By.XPATH, '//*[@id=\"a-autoid-0-announce\"]')\n",
    "    open_list.click()\n",
    "    list_year_tag = driver.find_element(By.XPATH, '//*[@id=\"a-popover-1\"]')\n",
    "    driver.execute_script(\"arguments[0].click();\", list_year_tag)\n",
    "    listYear = driver.find_element(By.XPATH, '//*[@id=\"a-popover-1\"]/div/div/ul')\n",
    "    list = listYear.find_elements(By.TAG_NAME, \"li\")\n",
    "    dict = {}\n",
    "    for li in list:\n",
    "        links = li.find_elements(By.TAG_NAME, \"a\")\n",
    "        for link in links:\n",
    "            urlTemp = 'https://www.boxofficemojo.com/year/world/'\n",
    "            dict.update({li.text: urlTemp + li.text})\n",
    "    driver.close()\n",
    "    driver.quit()\n",
    "    return dict   \n",
    "listOfYear = getURL(ori_url)"
   ]
  },
  {
   "cell_type": "code",
   "execution_count": 4,
   "id": "d9f6f2a70cbdd616",
   "metadata": {
    "ExecuteTime": {
     "end_time": "2024-05-01T00:24:13.157424Z",
     "start_time": "2024-05-01T00:24:13.149094Z"
    }
   },
   "outputs": [],
   "source": [
    "listOfYear = dict(list(listOfYear.items())[0:25])"
   ]
  },
  {
   "cell_type": "code",
   "execution_count": 26,
   "id": "158beccc2f64441c",
   "metadata": {
    "ExecuteTime": {
     "end_time": "2024-05-01T00:24:14.792494Z",
     "start_time": "2024-05-01T00:24:14.774955Z"
    }
   },
   "outputs": [
    {
     "data": {
      "text/plain": [
       "{'2024': 'https://www.boxofficemojo.com/year/world/2024',\n",
       " '2023': 'https://www.boxofficemojo.com/year/world/2023',\n",
       " '2022': 'https://www.boxofficemojo.com/year/world/2022',\n",
       " '2021': 'https://www.boxofficemojo.com/year/world/2021',\n",
       " '2020': 'https://www.boxofficemojo.com/year/world/2020',\n",
       " '2019': 'https://www.boxofficemojo.com/year/world/2019',\n",
       " '2018': 'https://www.boxofficemojo.com/year/world/2018',\n",
       " '2017': 'https://www.boxofficemojo.com/year/world/2017',\n",
       " '2016': 'https://www.boxofficemojo.com/year/world/2016',\n",
       " '2015': 'https://www.boxofficemojo.com/year/world/2015',\n",
       " '2014': 'https://www.boxofficemojo.com/year/world/2014',\n",
       " '2013': 'https://www.boxofficemojo.com/year/world/2013',\n",
       " '2012': 'https://www.boxofficemojo.com/year/world/2012',\n",
       " '2011': 'https://www.boxofficemojo.com/year/world/2011',\n",
       " '2010': 'https://www.boxofficemojo.com/year/world/2010',\n",
       " '2009': 'https://www.boxofficemojo.com/year/world/2009',\n",
       " '2008': 'https://www.boxofficemojo.com/year/world/2008',\n",
       " '2007': 'https://www.boxofficemojo.com/year/world/2007',\n",
       " '2006': 'https://www.boxofficemojo.com/year/world/2006',\n",
       " '2005': 'https://www.boxofficemojo.com/year/world/2005',\n",
       " '2004': 'https://www.boxofficemojo.com/year/world/2004',\n",
       " '2003': 'https://www.boxofficemojo.com/year/world/2003',\n",
       " '2002': 'https://www.boxofficemojo.com/year/world/2002',\n",
       " '2001': 'https://www.boxofficemojo.com/year/world/2001',\n",
       " '2000': 'https://www.boxofficemojo.com/year/world/2000'}"
      ]
     },
     "execution_count": 26,
     "metadata": {},
     "output_type": "execute_result"
    }
   ],
   "source": [
    "listOfYear"
   ]
  },
  {
   "cell_type": "code",
   "execution_count": 5,
   "id": "f331f800",
   "metadata": {},
   "outputs": [],
   "source": [
    "next_list = dict(list(listOfYear.items())[10:25])"
   ]
  },
  {
   "cell_type": "code",
   "execution_count": 6,
   "id": "f0d7e757",
   "metadata": {},
   "outputs": [
    {
     "data": {
      "text/plain": [
       "{'2014': 'https://www.boxofficemojo.com/year/world/2014',\n",
       " '2013': 'https://www.boxofficemojo.com/year/world/2013',\n",
       " '2012': 'https://www.boxofficemojo.com/year/world/2012',\n",
       " '2011': 'https://www.boxofficemojo.com/year/world/2011',\n",
       " '2010': 'https://www.boxofficemojo.com/year/world/2010',\n",
       " '2009': 'https://www.boxofficemojo.com/year/world/2009',\n",
       " '2008': 'https://www.boxofficemojo.com/year/world/2008',\n",
       " '2007': 'https://www.boxofficemojo.com/year/world/2007',\n",
       " '2006': 'https://www.boxofficemojo.com/year/world/2006',\n",
       " '2005': 'https://www.boxofficemojo.com/year/world/2005',\n",
       " '2004': 'https://www.boxofficemojo.com/year/world/2004',\n",
       " '2003': 'https://www.boxofficemojo.com/year/world/2003',\n",
       " '2002': 'https://www.boxofficemojo.com/year/world/2002',\n",
       " '2001': 'https://www.boxofficemojo.com/year/world/2001',\n",
       " '2000': 'https://www.boxofficemojo.com/year/world/2000'}"
      ]
     },
     "execution_count": 6,
     "metadata": {},
     "output_type": "execute_result"
    }
   ],
   "source": [
    "next_list"
   ]
  },
  {
   "cell_type": "markdown",
   "id": "54b13a72",
   "metadata": {},
   "source": [
    "> [!NOTE]  \n",
    "> Dừng, chuyển sang block khác"
   ]
  },
  {
   "cell_type": "code",
   "execution_count": 12,
   "id": "3d6c419b6686eb73",
   "metadata": {
    "ExecuteTime": {
     "end_time": "2024-04-28T00:09:47.372439Z",
     "start_time": "2024-04-28T00:09:47.362315Z"
    }
   },
   "outputs": [],
   "source": [
    "# get table in each year\n",
    "def getTable(url, csv_file_path):\n",
    "    service = Service(EdgeChromiumDriverManager().install())\n",
    "    driver = webdriver.Edge(service=service, options=edge_options)  # Use the Edge WebDriver\n",
    "    driver.get(url)\n",
    "    time.sleep(2)\n",
    "    year = driver.find_element(By.XPATH, '//*[@id=\"a-autoid-0-announce\"]/span')\n",
    "    tbody = driver.find_element(By.XPATH, '//*[@id=\"table\"]/div/table[2]/tbody')\n",
    "    raw_data = []\n",
    "\n",
    "    for tr in tbody.find_elements(By.XPATH, '//tr'):\n",
    "        row = [item.text for item in tr.find_elements(By.XPATH, \".//td\")]\n",
    "        raw_data.append(row)\n",
    "    data = pd.DataFrame(raw_data)\n",
    "    # drop 2 first row \n",
    "    data.drop([0, 1], inplace=True)\n",
    "    # remove index\n",
    "    data.reset_index(drop=True, inplace=True)\n",
    "    # rename column\n",
    "    data.columns = ['Rank' ,'Release Group', 'Worldwide', 'Domestic', '%', 'Foreign', '%']\n",
    "    # add column year\n",
    "    data['Year'] = year.text\n",
    "    # convert from string to int \n",
    "    data['Year'] = data['Year'].astype(int)\n",
    "    # convert from dataframe to csv file\n",
    "    data.to_csv(csv_file_path, mode='a', index=False, sep=',', encoding='utf-8')\n",
    "    driver.close()\n",
    "    driver.quit() # close browser\n",
    "    return data\n",
    "# testData = getTable(ori_url, file_path)"
   ]
  },
  {
   "cell_type": "code",
   "execution_count": 8,
   "id": "d3661e6daec757f1",
   "metadata": {
    "ExecuteTime": {
     "end_time": "2024-04-27T08:17:18.922555Z",
     "start_time": "2024-04-27T08:15:48.075071Z"
    }
   },
   "outputs": [],
   "source": [
    "current_directory = os.getcwd() # get current directory //D:\\VSC\\selenium\n",
    "ori_url = \"https://www.boxofficemojo.com/year/world/?ref_=bo_nb_di_tab\"\n",
    "file_path = os.path.join(current_directory, 'new_data.csv')\n",
    "# testData = getTable(listOfYear['2022'], file_path)"
   ]
  },
  {
   "cell_type": "code",
   "execution_count": 9,
   "id": "1d09f0b7",
   "metadata": {},
   "outputs": [],
   "source": [
    "testData = getTable(listOfYear['2022'], file_path)"
   ]
  },
  {
   "cell_type": "code",
   "execution_count": 12,
   "id": "c1cc6b5780f1c78",
   "metadata": {
    "ExecuteTime": {
     "end_time": "2024-04-27T08:17:34.665811Z",
     "start_time": "2024-04-27T08:17:34.650194Z"
    }
   },
   "outputs": [
    {
     "data": {
      "text/html": [
       "<div>\n",
       "<style scoped>\n",
       "    .dataframe tbody tr th:only-of-type {\n",
       "        vertical-align: middle;\n",
       "    }\n",
       "\n",
       "    .dataframe tbody tr th {\n",
       "        vertical-align: top;\n",
       "    }\n",
       "\n",
       "    .dataframe thead th {\n",
       "        text-align: right;\n",
       "    }\n",
       "</style>\n",
       "<table border=\"1\" class=\"dataframe\">\n",
       "  <thead>\n",
       "    <tr style=\"text-align: right;\">\n",
       "      <th></th>\n",
       "      <th>Rank</th>\n",
       "      <th>Release Group</th>\n",
       "      <th>Worldwide</th>\n",
       "      <th>Domestic</th>\n",
       "      <th>%</th>\n",
       "      <th>Foreign</th>\n",
       "      <th>%</th>\n",
       "      <th>Year</th>\n",
       "    </tr>\n",
       "  </thead>\n",
       "  <tbody>\n",
       "    <tr>\n",
       "      <th>0</th>\n",
       "      <td>1</td>\n",
       "      <td>Avatar: The Way of Water</td>\n",
       "      <td>$2,320,250,281</td>\n",
       "      <td>$684,075,767</td>\n",
       "      <td>29.5%</td>\n",
       "      <td>$1,636,174,514</td>\n",
       "      <td>70.5%</td>\n",
       "      <td>2022</td>\n",
       "    </tr>\n",
       "    <tr>\n",
       "      <th>1</th>\n",
       "      <td>2</td>\n",
       "      <td>Top Gun: Maverick</td>\n",
       "      <td>$1,495,696,292</td>\n",
       "      <td>$718,732,821</td>\n",
       "      <td>48.1%</td>\n",
       "      <td>$776,963,471</td>\n",
       "      <td>51.9%</td>\n",
       "      <td>2022</td>\n",
       "    </tr>\n",
       "    <tr>\n",
       "      <th>2</th>\n",
       "      <td>3</td>\n",
       "      <td>Jurassic World Dominion</td>\n",
       "      <td>$1,001,978,080</td>\n",
       "      <td>$376,851,080</td>\n",
       "      <td>37.6%</td>\n",
       "      <td>$625,127,000</td>\n",
       "      <td>62.4%</td>\n",
       "      <td>2022</td>\n",
       "    </tr>\n",
       "    <tr>\n",
       "      <th>3</th>\n",
       "      <td>4</td>\n",
       "      <td>Doctor Strange in the Multiverse of Madness</td>\n",
       "      <td>$955,775,804</td>\n",
       "      <td>$411,331,607</td>\n",
       "      <td>43%</td>\n",
       "      <td>$544,444,197</td>\n",
       "      <td>57%</td>\n",
       "      <td>2022</td>\n",
       "    </tr>\n",
       "    <tr>\n",
       "      <th>4</th>\n",
       "      <td>5</td>\n",
       "      <td>Minions: The Rise of Gru</td>\n",
       "      <td>$940,203,765</td>\n",
       "      <td>$370,270,765</td>\n",
       "      <td>39.4%</td>\n",
       "      <td>$569,933,000</td>\n",
       "      <td>60.6%</td>\n",
       "      <td>2022</td>\n",
       "    </tr>\n",
       "    <tr>\n",
       "      <th>...</th>\n",
       "      <td>...</td>\n",
       "      <td>...</td>\n",
       "      <td>...</td>\n",
       "      <td>...</td>\n",
       "      <td>...</td>\n",
       "      <td>...</td>\n",
       "      <td>...</td>\n",
       "      <td>...</td>\n",
       "    </tr>\n",
       "    <tr>\n",
       "      <th>196</th>\n",
       "      <td>197</td>\n",
       "      <td>Listy do M. 5</td>\n",
       "      <td>$7,328,061</td>\n",
       "      <td>-</td>\n",
       "      <td>-</td>\n",
       "      <td>$7,328,061</td>\n",
       "      <td>100%</td>\n",
       "      <td>2022</td>\n",
       "    </tr>\n",
       "    <tr>\n",
       "      <th>197</th>\n",
       "      <td>198</td>\n",
       "      <td>Laid-Back Camp Movie</td>\n",
       "      <td>$7,317,913</td>\n",
       "      <td>-</td>\n",
       "      <td>-</td>\n",
       "      <td>$7,317,913</td>\n",
       "      <td>100%</td>\n",
       "      <td>2022</td>\n",
       "    </tr>\n",
       "    <tr>\n",
       "      <th>198</th>\n",
       "      <td>199</td>\n",
       "      <td>Osomatsusan the Movie 2022 Re-release</td>\n",
       "      <td>$7,297,522</td>\n",
       "      <td>-</td>\n",
       "      <td>-</td>\n",
       "      <td>$7,297,522</td>\n",
       "      <td>100%</td>\n",
       "      <td>2022</td>\n",
       "    </tr>\n",
       "    <tr>\n",
       "      <th>199</th>\n",
       "      <td>200</td>\n",
       "      <td>The New Toy</td>\n",
       "      <td>$7,295,051</td>\n",
       "      <td>-</td>\n",
       "      <td>-</td>\n",
       "      <td>$7,295,051</td>\n",
       "      <td>100%</td>\n",
       "      <td>2022</td>\n",
       "    </tr>\n",
       "    <tr>\n",
       "      <th>200</th>\n",
       "      <td>None</td>\n",
       "      <td>None</td>\n",
       "      <td>None</td>\n",
       "      <td>None</td>\n",
       "      <td>None</td>\n",
       "      <td>None</td>\n",
       "      <td>None</td>\n",
       "      <td>2022</td>\n",
       "    </tr>\n",
       "  </tbody>\n",
       "</table>\n",
       "<p>201 rows × 8 columns</p>\n",
       "</div>"
      ],
      "text/plain": [
       "     Rank                                Release Group       Worldwide  \\\n",
       "0       1                     Avatar: The Way of Water  $2,320,250,281   \n",
       "1       2                            Top Gun: Maverick  $1,495,696,292   \n",
       "2       3                      Jurassic World Dominion  $1,001,978,080   \n",
       "3       4  Doctor Strange in the Multiverse of Madness    $955,775,804   \n",
       "4       5                     Minions: The Rise of Gru    $940,203,765   \n",
       "..    ...                                          ...             ...   \n",
       "196   197                                Listy do M. 5      $7,328,061   \n",
       "197   198                         Laid-Back Camp Movie      $7,317,913   \n",
       "198   199        Osomatsusan the Movie 2022 Re-release      $7,297,522   \n",
       "199   200                                  The New Toy      $7,295,051   \n",
       "200  None                                         None            None   \n",
       "\n",
       "         Domestic      %         Foreign      %  Year  \n",
       "0    $684,075,767  29.5%  $1,636,174,514  70.5%  2022  \n",
       "1    $718,732,821  48.1%    $776,963,471  51.9%  2022  \n",
       "2    $376,851,080  37.6%    $625,127,000  62.4%  2022  \n",
       "3    $411,331,607    43%    $544,444,197    57%  2022  \n",
       "4    $370,270,765  39.4%    $569,933,000  60.6%  2022  \n",
       "..            ...    ...             ...    ...   ...  \n",
       "196             -      -      $7,328,061   100%  2022  \n",
       "197             -      -      $7,317,913   100%  2022  \n",
       "198             -      -      $7,297,522   100%  2022  \n",
       "199             -      -      $7,295,051   100%  2022  \n",
       "200          None   None            None   None  2022  \n",
       "\n",
       "[201 rows x 8 columns]"
      ]
     },
     "execution_count": 12,
     "metadata": {},
     "output_type": "execute_result"
    }
   ],
   "source": [
    "testData"
   ]
  },
  {
   "cell_type": "code",
   "execution_count": 9,
   "id": "9faa5465153ac937",
   "metadata": {
    "ExecuteTime": {
     "end_time": "2024-04-27T08:33:20.028950Z",
     "start_time": "2024-04-27T08:18:24.400149Z"
    }
   },
   "outputs": [],
   "source": [
    "def getData_old():\n",
    "    for value in listOfYear.values():\n",
    "        driver = webdriver.Edge(service=service, options=edge_options)  # Use the Edge WebDrivers\n",
    "        getTable(value, file_path)\n",
    "        driver.close()\n",
    "        driver.quit()\n",
    "# getData_old()"
   ]
  },
  {
   "cell_type": "code",
   "execution_count": 13,
   "id": "6d4dac59",
   "metadata": {},
   "outputs": [],
   "source": [
    "def getData():\n",
    "    for value in next_list.values():\n",
    "        driver = webdriver.Edge(service=service, options=edge_options)  # Use the Edge WebDrivers\n",
    "        getTable(value, file_path)\n",
    "        driver.close()\n",
    "        driver.quit()"
   ]
  },
  {
   "cell_type": "code",
   "execution_count": 15,
   "id": "fa814fe6",
   "metadata": {},
   "outputs": [],
   "source": [
    "# crawl data\n",
    "data = getData()"
   ]
  },
  {
   "cell_type": "code",
   "execution_count": 16,
   "id": "1c5ccb66",
   "metadata": {},
   "outputs": [],
   "source": [
    "data_path = os.path.join(current_directory, 'revenue.csv')"
   ]
  },
  {
   "cell_type": "code",
   "execution_count": 19,
   "id": "01d1eab6",
   "metadata": {},
   "outputs": [],
   "source": [
    "data"
   ]
  },
  {
   "cell_type": "code",
   "execution_count": 18,
   "id": "ae5e64ac",
   "metadata": {},
   "outputs": [
    {
     "ename": "AttributeError",
     "evalue": "'NoneType' object has no attribute 'to_csv'",
     "output_type": "error",
     "traceback": [
      "\u001b[1;31m---------------------------------------------------------------------------\u001b[0m",
      "\u001b[1;31mAttributeError\u001b[0m                            Traceback (most recent call last)",
      "Cell \u001b[1;32mIn[18], line 1\u001b[0m\n\u001b[1;32m----> 1\u001b[0m \u001b[43mdata\u001b[49m\u001b[38;5;241;43m.\u001b[39;49m\u001b[43mto_csv\u001b[49m(data_path)\n",
      "\u001b[1;31mAttributeError\u001b[0m: 'NoneType' object has no attribute 'to_csv'"
     ]
    }
   ],
   "source": [
    "data.to_csv(data_path)"
   ]
  },
  {
   "cell_type": "code",
   "execution_count": 5,
   "id": "1f44202875af48c7",
   "metadata": {
    "ExecuteTime": {
     "end_time": "2024-04-28T05:31:13.152653Z",
     "start_time": "2024-04-28T05:31:13.147902Z"
    }
   },
   "outputs": [],
   "source": [
    "def getText(xpath):\n",
    "    try:\n",
    "        element = driver.find_element(By.XPATH, xpath)\n",
    "        return element.text\n",
    "    except NoSuchElementException:\n",
    "        return np.nan"
   ]
  },
  {
   "cell_type": "markdown",
   "id": "57d979fa",
   "metadata": {},
   "source": [
    "> [!NOTE]  \n",
    "> Tiếp"
   ]
  },
  {
   "cell_type": "code",
   "execution_count": 29,
   "id": "e2f4c13c382cd7a8",
   "metadata": {
    "ExecuteTime": {
     "end_time": "2024-05-01T00:24:22.879549Z",
     "start_time": "2024-05-01T00:24:22.851066Z"
    }
   },
   "outputs": [],
   "source": [
    "'''\n",
    "Click Steps:\n",
    "1. Click on movie's name\n",
    "2. Click on Title summary\n",
    "'''\n",
    "temp = None\n",
    "def get_info(url):\n",
    "    driver = webdriver.Edge(service=service, options=edge_options)\n",
    "    driver.get(url)\n",
    "    time.sleep(2)  # Increase implicit wait to handle slow loading\n",
    "    overview = None\n",
    "    # get name\n",
    "    title = driver.find_element(By.TAG_NAME,'h1')\n",
    "    title = title.text\n",
    "    # get overview\n",
    "    try:\n",
    "        overview = driver.find_element(By.XPATH, '//*[@id=\"a-page\"]/main/div/div[1]/div[1]/div/div/div[2]/div/span')\n",
    "        overview = overview.text\n",
    "    except NoSuchElementException:\n",
    "        try:\n",
    "            overview = driver.find_element(By.XPATH, '//*[@id=\"a-page\"]/main/div/div[1]/div[1]/div/div/div[2]/p')\n",
    "            overview = overview.text \n",
    "        except NoSuchElementException:\n",
    "            overview = np.nan\n",
    "    # Define the expected fields and their corresponding default XPaths\n",
    "    expected_fields = [\n",
    "        \"Domestic Distributor\",\n",
    "        \"Domestic Opening\",\n",
    "        \"Earliest Release Date\",\n",
    "        \"MPAA\",\n",
    "        \"Running Time\",\n",
    "        \"Genres\",\n",
    "    ]\n",
    "    \n",
    "    # Initialize a dictionary to hold the retrieved data\n",
    "    data_dict = {field: np.nan for field in expected_fields}\n",
    "\n",
    "    # Function to get text from an element, returns np.nan if not found\n",
    "    def get_text(xpath):\n",
    "        try:\n",
    "            element = driver.find_element(By.XPATH, xpath)\n",
    "            return element.text\n",
    "        except NoSuchElementException:\n",
    "            return np.nan\n",
    "\n",
    "    try:\n",
    "        # Click on Title Summary (if needed)\n",
    "        driver.find_element(By.XPATH, '//*[@id=\"title-summary-refiner\"]/a').click()\n",
    "\n",
    "        # Loop through the expected fields and try to find them based on order\n",
    "        # The initial XPath is set to a common base, with varying indices\n",
    "        for i in range(1, 7):\n",
    "            field_name_xpath = f'//*[@id=\"a-page\"]/main/div/div[3]/div[4]/div[{i}]/span[1]'\n",
    "            field_value_xpath = f'//*[@id=\"a-page\"]/main/div/div[3]/div[4]/div[{i}]/span[2]'\n",
    "\n",
    "            field_name = get_text(field_name_xpath)\n",
    "            if field_name in expected_fields:\n",
    "                # If the field name matches an expected field, add its value to the dictionary\n",
    "                data_dict[field_name] = get_text(field_value_xpath)\n",
    "        if data_dict['Domestic Distributor'] != np.nan:\n",
    "            name = data_dict['Domestic Distributor'].split('\\n')\n",
    "            data_dict['Domestic Distributor'] = name[0] \n",
    "        else:\n",
    "            pass\n",
    "    except (NoSuchElementException, AttributeError) as e:\n",
    "        pass  # If there's an exception, just continue with NaN values\n",
    "    # get filmmakers and cast\n",
    "    try:\n",
    "        driver.find_element(By.XPATH,'//*[@id=\"tabs\"]/div/a[2]').click()\n",
    "        tbody = driver.find_element(By.XPATH, '//*[@id=\"principalCrew\"]/tbody')\n",
    "        raw_data = []\n",
    "        for tr in tbody.find_elements(By.XPATH, '//tr'):\n",
    "            row = [item.text for item in tr.find_elements(By.XPATH, \".//td\")]\n",
    "            raw_data.append(row)\n",
    "        raw_data.pop(0)\n",
    "        empty_index = raw_data.index([])\n",
    "        film_makers = raw_data[:empty_index]\n",
    "        casts = raw_data[empty_index + 1:]\n",
    "        films = []\n",
    "        actors = []\n",
    "        for film in film_makers:\n",
    "            films.append(film[0])\n",
    "        for cast in casts:\n",
    "            actors.append(cast[0])\n",
    "        driver.close()\n",
    "        driver.quit()  # Ensure the WebDriver is closed\n",
    "        [data_dict[field] for field in expected_fields]\n",
    "        data_dict.update({'Overview':overview})\n",
    "        data_dict.update({'Film makers':films})\n",
    "        data_dict.update({'Actors':actors})\n",
    "    except (NoSuchElementException, AttributeError) as e:\n",
    "        data_dict.update({'Overview':np.nan})\n",
    "        data_dict.update({'Film makers':np.nan})\n",
    "        data_dict.update({'Actors':np.nan})\n",
    "    # Return the data values in the correct order\n",
    "    data_dict.update({'Name': title})\n",
    "    return data_dict"
   ]
  },
  {
   "cell_type": "markdown",
   "id": "b43916cb",
   "metadata": {},
   "source": [
    "> [!NOTE]  \n",
    "> Stop"
   ]
  },
  {
   "cell_type": "code",
   "execution_count": 31,
   "id": "1751924b846aa9e2",
   "metadata": {
    "ExecuteTime": {
     "end_time": "2024-04-30T18:07:06.359475Z",
     "start_time": "2024-04-30T18:06:32.765484Z"
    }
   },
   "outputs": [],
   "source": [
    "testURL = 'https://www.boxofficemojo.com/title/tt15239678/?ref_=bo_gr_ti'\n",
    "testInfo = get_info(testURL)"
   ]
  },
  {
   "cell_type": "code",
   "execution_count": 32,
   "id": "b6aa7fad4b621c8c",
   "metadata": {
    "ExecuteTime": {
     "end_time": "2024-04-30T18:07:06.366672Z",
     "start_time": "2024-04-30T18:07:06.360897Z"
    }
   },
   "outputs": [
    {
     "name": "stdout",
     "output_type": "stream",
     "text": [
      "{'Domestic Distributor': 'Warner Bros.', 'Domestic Opening': '$82,505,391', 'Earliest Release Date': 'February 28, 2024 (EMEA, APAC)', 'MPAA': 'PG-13', 'Running Time': '2 hr 46 min', 'Genres': 'Action Adventure Drama Sci-Fi', 'Overview': 'Paul Atreides unites with Chani and the Fremen while seeking revenge against the conspirators who destroyed his family.', 'Film makers': ['Denis Villeneuve', 'Denis Villeneuve', 'Jon Spaihts', 'Frank Herbert', 'Cale Boyter', 'Tanya Lapointe', 'Patrick McCormick', 'Mary Parent', 'Denis Villeneuve', 'Hans Zimmer', 'Greig Fraser', 'Joe Walker', 'Patrice Vermette'], 'Actors': ['Timothée Chalamet', 'Zendaya', 'Rebecca Ferguson', 'Javier Bardem'], 'Name': 'Dune: Part Two (2024)'}\n"
     ]
    }
   ],
   "source": [
    "print(testInfo)"
   ]
  },
  {
   "cell_type": "code",
   "execution_count": 54,
   "id": "2a8fc51295bfc9c9",
   "metadata": {
    "ExecuteTime": {
     "end_time": "2024-04-30T15:49:45.012190Z",
     "start_time": "2024-04-30T15:48:53.023759Z"
    }
   },
   "outputs": [
    {
     "name": "stdout",
     "output_type": "stream",
     "text": [
      "{'Domestic Distributor': 'Crunchyroll', 'Domestic Opening': nan, 'Earliest Release Date': 'February 16, 2024 (Japan)', 'MPAA': nan, 'Running Time': '1 hr 25 min', 'Genres': 'Animation Comedy Drama Sport', 'Overview': 'Despite a strong field, Karasuno High volleyball team advances past preliminary round of Harutaka tournament in Miyagi prefecture to reach the third round.'}\n",
      "['Susumu Mitsunaka', 'Haruichi Furudate', 'Susumu Mitsunaka', 'Miura Fumi', 'Mitsuteru Hishiyama', 'Tasuku Honda', 'Ryota Ikeda', 'Mayumi Kurashima', 'Toshihiro Maeda', 'Fumi Morihiro', 'Shôichirô Taguchi', 'Yûki Hayashi', 'Asami Tachibana', 'Yumiko Nakata', 'Junichi Uematsu']\n",
      "['Ayumu Murase', 'Kaito Ishikawa', 'Yûki Kaji', 'Yûichi Nakamura']\n"
     ]
    }
   ],
   "source": [
    "again, film_test, cast_test = get_info('https://www.boxofficemojo.com/title/tt30476486/?ref_=bo_gr_ti')\n",
    "print(again)\n",
    "print(film_test)\n",
    "print(cast_test)"
   ]
  },
  {
   "cell_type": "code",
   "execution_count": 96,
   "id": "2716d7013b766926",
   "metadata": {
    "ExecuteTime": {
     "end_time": "2024-04-30T18:06:32.764011Z",
     "start_time": "2024-04-30T18:05:56.336069Z"
    }
   },
   "outputs": [
    {
     "data": {
      "text/plain": [
       "{'Domestic Distributor': nan,\n",
       " 'Domestic Opening': nan,\n",
       " 'Earliest Release Date': nan,\n",
       " 'MPAA': nan,\n",
       " 'Running Time': nan,\n",
       " 'Genres': nan,\n",
       " 'Overview': nan,\n",
       " 'Film makers': nan,\n",
       " 'Actors': nan,\n",
       " 'Name': 'The Chosen: S4 Episodes 1-3'}"
      ]
     },
     "execution_count": 96,
     "metadata": {},
     "output_type": "execute_result"
    }
   ],
   "source": [
    "again1 = get_info('https://www.boxofficemojo.com/releasegroup/gr4002566661/?ref_=bo_ydw_table_37')\n",
    "again1"
   ]
  },
  {
   "cell_type": "code",
   "execution_count": 62,
   "id": "5255fe90c835a2b0",
   "metadata": {
    "ExecuteTime": {
     "end_time": "2024-04-30T06:42:36.059148Z",
     "start_time": "2024-04-30T06:41:51.780859Z"
    }
   },
   "outputs": [
    {
     "data": {
      "text/plain": [
       "{'Domestic Distributor': nan,\n",
       " 'Domestic Opening': nan,\n",
       " 'Earliest Release Date': 'March 28, 2024 (Germany)',\n",
       " 'MPAA': nan,\n",
       " 'Running Time': '1 hr 58 min',\n",
       " 'Genres': 'Comedy Fantasy',\n",
       " 'Overview': 'Chantal will be involuntarily transported to a fairy tale world, fighting against witches and tyrant kings, but above all for her friendship with Zeynep.'}"
      ]
     },
     "execution_count": 62,
     "metadata": {},
     "output_type": "execute_result"
    }
   ],
   "source": [
    "again2 = get_info('https://www.boxofficemojo.com/title/tt27075304/?ref_=bo_gr_ti')\n",
    "again2"
   ]
  },
  {
   "cell_type": "markdown",
   "id": "cebddfe6",
   "metadata": {},
   "source": [
    "> [!NOTE]  \n",
    "> Begin"
   ]
  },
  {
   "cell_type": "code",
   "execution_count": 31,
   "id": "24931f08c7695f32",
   "metadata": {
    "ExecuteTime": {
     "end_time": "2024-05-01T00:24:28.299270Z",
     "start_time": "2024-05-01T00:24:28.290754Z"
    }
   },
   "outputs": [],
   "source": [
    "def getLinks(url):\n",
    "    driver = webdriver.Edge(service=service, options=edge_options)  # Use the Edge WebDriver\n",
    "    driver.get(url)\n",
    "    time.sleep(2)\n",
    "    tbody = driver.find_element(By.XPATH, '//*[@id=\"table\"]/div/table[2]/tbody')\n",
    "    movies = []\n",
    "    count = 2\n",
    "    for tr in tbody.find_elements(By.XPATH, '//tr'):\n",
    "        link = tr.find_element(By.XPATH, '//*[@id=\"table\"]/div/table[2]/tbody/tr['+ str(count) +']/td[2]/a').get_attribute('href')\n",
    "        count += 1\n",
    "        if (count == 201):\n",
    "            break\n",
    "        movies.append(link)\n",
    "    driver.close()\n",
    "    driver.quit()\n",
    "    return movies"
   ]
  },
  {
   "cell_type": "markdown",
   "id": "e083411c",
   "metadata": {},
   "source": [
    "> [!NOTE]  \n",
    "> Stop"
   ]
  },
  {
   "cell_type": "code",
   "execution_count": 37,
   "id": "904c9239502daf50",
   "metadata": {
    "ExecuteTime": {
     "end_time": "2024-05-01T00:24:49.056362Z",
     "start_time": "2024-05-01T00:24:30.604420Z"
    }
   },
   "outputs": [
    {
     "data": {
      "text/plain": [
       "['https://www.boxofficemojo.com/releasegroup/gr2058375685/?ref_=bo_ydw_table_1',\n",
       " 'https://www.boxofficemojo.com/releasegroup/gr2995671557/?ref_=bo_ydw_table_2',\n",
       " 'https://www.boxofficemojo.com/releasegroup/gr361583109/?ref_=bo_ydw_table_3',\n",
       " 'https://www.boxofficemojo.com/releasegroup/gr77484549/?ref_=bo_ydw_table_4',\n",
       " 'https://www.boxofficemojo.com/releasegroup/gr3314176517/?ref_=bo_ydw_table_5',\n",
       " 'https://www.boxofficemojo.com/releasegroup/gr4020130309/?ref_=bo_ydw_table_6',\n",
       " 'https://www.boxofficemojo.com/releasegroup/gr850547205/?ref_=bo_ydw_table_7',\n",
       " 'https://www.boxofficemojo.com/releasegroup/gr3197587973/?ref_=bo_ydw_table_8',\n",
       " 'https://www.boxofficemojo.com/releasegroup/gr127685125/?ref_=bo_ydw_table_9',\n",
       " 'https://www.boxofficemojo.com/releasegroup/gr395137541/?ref_=bo_ydw_table_10',\n",
       " 'https://www.boxofficemojo.com/releasegroup/gr2055819781/?ref_=bo_ydw_table_11',\n",
       " 'https://www.boxofficemojo.com/releasegroup/gr3499381253/?ref_=bo_ydw_table_12',\n",
       " 'https://www.boxofficemojo.com/releasegroup/gr916214277/?ref_=bo_ydw_table_13',\n",
       " 'https://www.boxofficemojo.com/releasegroup/gr1099911685/?ref_=bo_ydw_table_14',\n",
       " 'https://www.boxofficemojo.com/releasegroup/gr831869445/?ref_=bo_ydw_table_15',\n",
       " 'https://www.boxofficemojo.com/releasegroup/gr74142469/?ref_=bo_ydw_table_16',\n",
       " 'https://www.boxofficemojo.com/releasegroup/gr4100608773/?ref_=bo_ydw_table_17',\n",
       " 'https://www.boxofficemojo.com/releasegroup/gr176574981/?ref_=bo_ydw_table_18',\n",
       " 'https://www.boxofficemojo.com/releasegroup/gr328290821/?ref_=bo_ydw_table_19',\n",
       " 'https://www.boxofficemojo.com/releasegroup/gr1553420805/?ref_=bo_ydw_table_20',\n",
       " 'https://www.boxofficemojo.com/releasegroup/gr3281539589/?ref_=bo_ydw_table_21',\n",
       " 'https://www.boxofficemojo.com/releasegroup/gr663835141/?ref_=bo_ydw_table_22',\n",
       " 'https://www.boxofficemojo.com/releasegroup/gr1888309765/?ref_=bo_ydw_table_23',\n",
       " 'https://www.boxofficemojo.com/releasegroup/gr1888571909/?ref_=bo_ydw_table_24',\n",
       " 'https://www.boxofficemojo.com/releasegroup/gr1419137541/?ref_=bo_ydw_table_25',\n",
       " 'https://www.boxofficemojo.com/releasegroup/gr3835122181/?ref_=bo_ydw_table_26',\n",
       " 'https://www.boxofficemojo.com/releasegroup/gr1016484357/?ref_=bo_ydw_table_27',\n",
       " 'https://www.boxofficemojo.com/releasegroup/gr3681243909/?ref_=bo_ydw_table_28',\n",
       " 'https://www.boxofficemojo.com/releasegroup/gr1033261573/?ref_=bo_ydw_table_29',\n",
       " 'https://www.boxofficemojo.com/releasegroup/gr1114329861/?ref_=bo_ydw_table_30',\n",
       " 'https://www.boxofficemojo.com/releasegroup/gr1871991301/?ref_=bo_ydw_table_31',\n",
       " 'https://www.boxofficemojo.com/releasegroup/gr2274513413/?ref_=bo_ydw_table_32',\n",
       " 'https://www.boxofficemojo.com/releasegroup/gr1100370437/?ref_=bo_ydw_table_33',\n",
       " 'https://www.boxofficemojo.com/releasegroup/gr1821725189/?ref_=bo_ydw_table_34',\n",
       " 'https://www.boxofficemojo.com/releasegroup/gr4053094917/?ref_=bo_ydw_table_35',\n",
       " 'https://www.boxofficemojo.com/releasegroup/gr4053160453/?ref_=bo_ydw_table_36',\n",
       " 'https://www.boxofficemojo.com/releasegroup/gr1419072005/?ref_=bo_ydw_table_37',\n",
       " 'https://www.boxofficemojo.com/releasegroup/gr1637241349/?ref_=bo_ydw_table_38',\n",
       " 'https://www.boxofficemojo.com/releasegroup/gr3063435781/?ref_=bo_ydw_table_39',\n",
       " 'https://www.boxofficemojo.com/releasegroup/gr798708229/?ref_=bo_ydw_table_40',\n",
       " 'https://www.boxofficemojo.com/releasegroup/gr1150702085/?ref_=bo_ydw_table_41',\n",
       " 'https://www.boxofficemojo.com/releasegroup/gr2724942597/?ref_=bo_ydw_table_42',\n",
       " 'https://www.boxofficemojo.com/releasegroup/gr2996130309/?ref_=bo_ydw_table_43',\n",
       " 'https://www.boxofficemojo.com/releasegroup/gr3768406533/?ref_=bo_ydw_table_44',\n",
       " 'https://www.boxofficemojo.com/releasegroup/gr3163968005/?ref_=bo_ydw_table_45',\n",
       " 'https://www.boxofficemojo.com/releasegroup/gr4002566661/?ref_=bo_ydw_table_46',\n",
       " 'https://www.boxofficemojo.com/releasegroup/gr4287910405/?ref_=bo_ydw_table_47',\n",
       " 'https://www.boxofficemojo.com/releasegroup/gr1519800837/?ref_=bo_ydw_table_48',\n",
       " 'https://www.boxofficemojo.com/releasegroup/gr2271957765/?ref_=bo_ydw_table_49',\n",
       " 'https://www.boxofficemojo.com/releasegroup/gr1502958085/?ref_=bo_ydw_table_50',\n",
       " 'https://www.boxofficemojo.com/releasegroup/gr1503482373/?ref_=bo_ydw_table_51',\n",
       " 'https://www.boxofficemojo.com/releasegroup/gr362172933/?ref_=bo_ydw_table_52',\n",
       " 'https://www.boxofficemojo.com/releasegroup/gr174740229/?ref_=bo_ydw_table_53',\n",
       " 'https://www.boxofficemojo.com/releasegroup/gr3147190789/?ref_=bo_ydw_table_54',\n",
       " 'https://www.boxofficemojo.com/releasegroup/gr2392150533/?ref_=bo_ydw_table_55',\n",
       " 'https://www.boxofficemojo.com/releasegroup/gr2778092037/?ref_=bo_ydw_table_56',\n",
       " 'https://www.boxofficemojo.com/releasegroup/gr2859094789/?ref_=bo_ydw_table_57',\n",
       " 'https://www.boxofficemojo.com/releasegroup/gr429085189/?ref_=bo_ydw_table_58',\n",
       " 'https://www.boxofficemojo.com/releasegroup/gr4019343877/?ref_=bo_ydw_table_59',\n",
       " 'https://www.boxofficemojo.com/releasegroup/gr1469338117/?ref_=bo_ydw_table_60',\n",
       " 'https://www.boxofficemojo.com/releasegroup/gr1335251461/?ref_=bo_ydw_table_61',\n",
       " 'https://www.boxofficemojo.com/releasegroup/gr4220867077/?ref_=bo_ydw_table_62',\n",
       " 'https://www.boxofficemojo.com/releasegroup/gr3969012229/?ref_=bo_ydw_table_63',\n",
       " 'https://www.boxofficemojo.com/releasegroup/gr2643874309/?ref_=bo_ydw_table_64',\n",
       " 'https://www.boxofficemojo.com/releasegroup/gr2070631173/?ref_=bo_ydw_table_65',\n",
       " 'https://www.boxofficemojo.com/releasegroup/gr1905545733/?ref_=bo_ydw_table_66',\n",
       " 'https://www.boxofficemojo.com/releasegroup/gr611013381/?ref_=bo_ydw_table_67',\n",
       " 'https://www.boxofficemojo.com/releasegroup/gr3647558405/?ref_=bo_ydw_table_68',\n",
       " 'https://www.boxofficemojo.com/releasegroup/gr4086911493/?ref_=bo_ydw_table_69',\n",
       " 'https://www.boxofficemojo.com/releasegroup/gr392909573/?ref_=bo_ydw_table_70',\n",
       " 'https://www.boxofficemojo.com/releasegroup/gr1922519557/?ref_=bo_ydw_table_71',\n",
       " 'https://www.boxofficemojo.com/releasegroup/gr2104185605/?ref_=bo_ydw_table_72',\n",
       " 'https://www.boxofficemojo.com/releasegroup/gr1080775429/?ref_=bo_ydw_table_73',\n",
       " 'https://www.boxofficemojo.com/releasegroup/gr680546821/?ref_=bo_ydw_table_74',\n",
       " 'https://www.boxofficemojo.com/releasegroup/gr194400773/?ref_=bo_ydw_table_75',\n",
       " 'https://www.boxofficemojo.com/releasegroup/gr3248181765/?ref_=bo_ydw_table_76',\n",
       " 'https://www.boxofficemojo.com/releasegroup/gr560681733/?ref_=bo_ydw_table_77',\n",
       " 'https://www.boxofficemojo.com/releasegroup/gr2576699909/?ref_=bo_ydw_table_78',\n",
       " 'https://www.boxofficemojo.com/releasegroup/gr3214234117/?ref_=bo_ydw_table_79',\n",
       " 'https://www.boxofficemojo.com/releasegroup/gr3365163525/?ref_=bo_ydw_table_80',\n",
       " 'https://www.boxofficemojo.com/releasegroup/gr862671621/?ref_=bo_ydw_table_81',\n",
       " 'https://www.boxofficemojo.com/releasegroup/gr1684755205/?ref_=bo_ydw_table_82',\n",
       " 'https://www.boxofficemojo.com/releasegroup/gr2643808773/?ref_=bo_ydw_table_83',\n",
       " 'https://www.boxofficemojo.com/releasegroup/gr2039828997/?ref_=bo_ydw_table_84',\n",
       " 'https://www.boxofficemojo.com/releasegroup/gr362107397/?ref_=bo_ydw_table_85',\n",
       " 'https://www.boxofficemojo.com/releasegroup/gr2039894533/?ref_=bo_ydw_table_86',\n",
       " 'https://www.boxofficemojo.com/releasegroup/gr2023117317/?ref_=bo_ydw_table_87',\n",
       " 'https://www.boxofficemojo.com/releasegroup/gr1617646341/?ref_=bo_ydw_table_88',\n",
       " 'https://www.boxofficemojo.com/releasegroup/gr848712197/?ref_=bo_ydw_table_89',\n",
       " 'https://www.boxofficemojo.com/releasegroup/gr4083831557/?ref_=bo_ydw_table_90',\n",
       " 'https://www.boxofficemojo.com/releasegroup/gr3163902469/?ref_=bo_ydw_table_91',\n",
       " 'https://www.boxofficemojo.com/releasegroup/gr1735086853/?ref_=bo_ydw_table_92',\n",
       " 'https://www.boxofficemojo.com/releasegroup/gr2607436549/?ref_=bo_ydw_table_93',\n",
       " 'https://www.boxofficemojo.com/releasegroup/gr731271685/?ref_=bo_ydw_table_94',\n",
       " 'https://www.boxofficemojo.com/releasegroup/gr3482604037/?ref_=bo_ydw_table_95',\n",
       " 'https://www.boxofficemojo.com/releasegroup/gr3851768325/?ref_=bo_ydw_table_96',\n",
       " 'https://www.boxofficemojo.com/releasegroup/gr3012907525/?ref_=bo_ydw_table_97',\n",
       " 'https://www.boxofficemojo.com/releasegroup/gr3412742917/?ref_=bo_ydw_table_98',\n",
       " 'https://www.boxofficemojo.com/releasegroup/gr834163205/?ref_=bo_ydw_table_99',\n",
       " 'https://www.boxofficemojo.com/releasegroup/gr1818907397/?ref_=bo_ydw_table_100',\n",
       " 'https://www.boxofficemojo.com/releasegroup/gr4271264261/?ref_=bo_ydw_table_101',\n",
       " 'https://www.boxofficemojo.com/releasegroup/gr227955205/?ref_=bo_ydw_table_102',\n",
       " 'https://www.boxofficemojo.com/releasegroup/gr1670730245/?ref_=bo_ydw_table_103',\n",
       " 'https://www.boxofficemojo.com/releasegroup/gr2459324933/?ref_=bo_ydw_table_104',\n",
       " 'https://www.boxofficemojo.com/releasegroup/gr4136980997/?ref_=bo_ydw_table_105',\n",
       " 'https://www.boxofficemojo.com/releasegroup/gr1184256517/?ref_=bo_ydw_table_106',\n",
       " 'https://www.boxofficemojo.com/releasegroup/gr3781841669/?ref_=bo_ydw_table_107',\n",
       " 'https://www.boxofficemojo.com/releasegroup/gr3533001221/?ref_=bo_ydw_table_108',\n",
       " 'https://www.boxofficemojo.com/releasegroup/gr3664466693/?ref_=bo_ydw_table_109',\n",
       " 'https://www.boxofficemojo.com/releasegroup/gr3331674629/?ref_=bo_ydw_table_110',\n",
       " 'https://www.boxofficemojo.com/releasegroup/gr966021637/?ref_=bo_ydw_table_111',\n",
       " 'https://www.boxofficemojo.com/releasegroup/gr4167783173/?ref_=bo_ydw_table_112',\n",
       " 'https://www.boxofficemojo.com/releasegroup/gr1519735301/?ref_=bo_ydw_table_113',\n",
       " 'https://www.boxofficemojo.com/releasegroup/gr563368453/?ref_=bo_ydw_table_114',\n",
       " 'https://www.boxofficemojo.com/releasegroup/gr1969967877/?ref_=bo_ydw_table_115',\n",
       " 'https://www.boxofficemojo.com/releasegroup/gr1586975237/?ref_=bo_ydw_table_116',\n",
       " 'https://www.boxofficemojo.com/releasegroup/gr2624279301/?ref_=bo_ydw_table_117',\n",
       " 'https://www.boxofficemojo.com/releasegroup/gr3365229061/?ref_=bo_ydw_table_118',\n",
       " 'https://www.boxofficemojo.com/releasegroup/gr3798618885/?ref_=bo_ydw_table_119',\n",
       " 'https://www.boxofficemojo.com/releasegroup/gr3714798341/?ref_=bo_ydw_table_120',\n",
       " 'https://www.boxofficemojo.com/releasegroup/gr241849093/?ref_=bo_ydw_table_121',\n",
       " 'https://www.boxofficemojo.com/releasegroup/gr3932902149/?ref_=bo_ydw_table_122',\n",
       " 'https://www.boxofficemojo.com/releasegroup/gr2979353093/?ref_=bo_ydw_table_123',\n",
       " 'https://www.boxofficemojo.com/releasegroup/gr2053853957/?ref_=bo_ydw_table_124',\n",
       " 'https://www.boxofficemojo.com/releasegroup/gr157963013/?ref_=bo_ydw_table_125',\n",
       " 'https://www.boxofficemojo.com/releasegroup/gr1066816005/?ref_=bo_ydw_table_126',\n",
       " 'https://www.boxofficemojo.com/releasegroup/gr1620398597/?ref_=bo_ydw_table_127',\n",
       " 'https://www.boxofficemojo.com/releasegroup/gr479482373/?ref_=bo_ydw_table_128',\n",
       " 'https://www.boxofficemojo.com/releasegroup/gr2660651525/?ref_=bo_ydw_table_129',\n",
       " 'https://www.boxofficemojo.com/releasegroup/gr2610254341/?ref_=bo_ydw_table_130',\n",
       " 'https://www.boxofficemojo.com/releasegroup/gr4170535429/?ref_=bo_ydw_table_131',\n",
       " 'https://www.boxofficemojo.com/releasegroup/gr3717485061/?ref_=bo_ydw_table_132',\n",
       " 'https://www.boxofficemojo.com/releasegroup/gr2962575877/?ref_=bo_ydw_table_133',\n",
       " 'https://www.boxofficemojo.com/releasegroup/gr1855345157/?ref_=bo_ydw_table_134',\n",
       " 'https://www.boxofficemojo.com/releasegroup/gr3465826821/?ref_=bo_ydw_table_135',\n",
       " 'https://www.boxofficemojo.com/releasegroup/gr747721221/?ref_=bo_ydw_table_136',\n",
       " 'https://www.boxofficemojo.com/releasegroup/gr3415560709/?ref_=bo_ydw_table_137',\n",
       " 'https://www.boxofficemojo.com/releasegroup/gr3667153413/?ref_=bo_ydw_table_138',\n",
       " 'https://www.boxofficemojo.com/releasegroup/gr946557701/?ref_=bo_ydw_table_139',\n",
       " 'https://www.boxofficemojo.com/releasegroup/gr3365294597/?ref_=bo_ydw_table_140',\n",
       " 'https://www.boxofficemojo.com/releasegroup/gr2674545413/?ref_=bo_ydw_table_141',\n",
       " 'https://www.boxofficemojo.com/releasegroup/gr1953190661/?ref_=bo_ydw_table_142',\n",
       " 'https://www.boxofficemojo.com/releasegroup/gr1049907717/?ref_=bo_ydw_table_143',\n",
       " 'https://www.boxofficemojo.com/releasegroup/gr3446297349/?ref_=bo_ydw_table_144',\n",
       " 'https://www.boxofficemojo.com/releasegroup/gr1265259269/?ref_=bo_ydw_table_145',\n",
       " 'https://www.boxofficemojo.com/releasegroup/gr3264631301/?ref_=bo_ydw_table_146',\n",
       " 'https://www.boxofficemojo.com/releasegroup/gr1284854277/?ref_=bo_ydw_table_147',\n",
       " 'https://www.boxofficemojo.com/releasegroup/gr2713670149/?ref_=bo_ydw_table_148',\n",
       " 'https://www.boxofficemojo.com/releasegroup/gr2878755333/?ref_=bo_ydw_table_149',\n",
       " 'https://www.boxofficemojo.com/releasegroup/gr3127595781/?ref_=bo_ydw_table_150',\n",
       " 'https://www.boxofficemojo.com/releasegroup/gr1872056837/?ref_=bo_ydw_table_151',\n",
       " 'https://www.boxofficemojo.com/releasegroup/gr1718309637/?ref_=bo_ydw_table_152',\n",
       " 'https://www.boxofficemojo.com/releasegroup/gr3835056645/?ref_=bo_ydw_table_153',\n",
       " 'https://www.boxofficemojo.com/releasegroup/gr2406175493/?ref_=bo_ydw_table_154',\n",
       " 'https://www.boxofficemojo.com/releasegroup/gr963269381/?ref_=bo_ydw_table_155',\n",
       " 'https://www.boxofficemojo.com/releasegroup/gr2842317573/?ref_=bo_ydw_table_156',\n",
       " 'https://www.boxofficemojo.com/releasegroup/gr2559922693/?ref_=bo_ydw_table_157',\n",
       " 'https://www.boxofficemojo.com/releasegroup/gr1469403653/?ref_=bo_ydw_table_158',\n",
       " 'https://www.boxofficemojo.com/releasegroup/gr1922454021/?ref_=bo_ydw_table_159',\n",
       " 'https://www.boxofficemojo.com/releasegroup/gr3918942725/?ref_=bo_ydw_table_160',\n",
       " 'https://www.boxofficemojo.com/releasegroup/gr311906821/?ref_=bo_ydw_table_161',\n",
       " 'https://www.boxofficemojo.com/releasegroup/gr627790597/?ref_=bo_ydw_table_162',\n",
       " 'https://www.boxofficemojo.com/releasegroup/gr3398783493/?ref_=bo_ydw_table_163',\n",
       " 'https://www.boxofficemojo.com/releasegroup/gr4287975941/?ref_=bo_ydw_table_164',\n",
       " 'https://www.boxofficemojo.com/releasegroup/gr1066684933/?ref_=bo_ydw_table_165',\n",
       " 'https://www.boxofficemojo.com/releasegroup/gr3549778437/?ref_=bo_ydw_table_166',\n",
       " 'https://www.boxofficemojo.com/releasegroup/gr2288734981/?ref_=bo_ydw_table_167',\n",
       " 'https://www.boxofficemojo.com/releasegroup/gr1536446981/?ref_=bo_ydw_table_168',\n",
       " 'https://www.boxofficemojo.com/releasegroup/gr3382006277/?ref_=bo_ydw_table_169',\n",
       " 'https://www.boxofficemojo.com/releasegroup/gr4069806597/?ref_=bo_ydw_table_170',\n",
       " 'https://www.boxofficemojo.com/releasegroup/gr3046527493/?ref_=bo_ydw_table_171',\n",
       " 'https://www.boxofficemojo.com/releasegroup/gr294998533/?ref_=bo_ydw_table_172',\n",
       " 'https://www.boxofficemojo.com/releasegroup/gr1419006469/?ref_=bo_ydw_table_173',\n",
       " 'https://www.boxofficemojo.com/releasegroup/gr1402360325/?ref_=bo_ydw_table_174',\n",
       " 'https://www.boxofficemojo.com/releasegroup/gr845894405/?ref_=bo_ydw_table_175',\n",
       " 'https://www.boxofficemojo.com/releasegroup/gr1284919813/?ref_=bo_ydw_table_176',\n",
       " 'https://www.boxofficemojo.com/releasegroup/gr4103426565/?ref_=bo_ydw_table_177',\n",
       " 'https://www.boxofficemojo.com/releasegroup/gr2660585989/?ref_=bo_ydw_table_178',\n",
       " 'https://www.boxofficemojo.com/releasegroup/gr1855279621/?ref_=bo_ydw_table_179',\n",
       " 'https://www.boxofficemojo.com/releasegroup/gr1821790725/?ref_=bo_ydw_table_180',\n",
       " 'https://www.boxofficemojo.com/releasegroup/gr815026693/?ref_=bo_ydw_table_181',\n",
       " 'https://www.boxofficemojo.com/releasegroup/gr3046396421/?ref_=bo_ydw_table_182',\n",
       " 'https://www.boxofficemojo.com/releasegroup/gr1385583109/?ref_=bo_ydw_table_183',\n",
       " 'https://www.boxofficemojo.com/releasegroup/gr915886597/?ref_=bo_ydw_table_184',\n",
       " 'https://www.boxofficemojo.com/releasegroup/gr1214927621/?ref_=bo_ydw_table_185',\n",
       " 'https://www.boxofficemojo.com/releasegroup/gr2828423685/?ref_=bo_ydw_table_186',\n",
       " 'https://www.boxofficemojo.com/releasegroup/gr4187378181/?ref_=bo_ydw_table_187',\n",
       " 'https://www.boxofficemojo.com/releasegroup/gr2624213765/?ref_=bo_ydw_table_188',\n",
       " 'https://www.boxofficemojo.com/releasegroup/gr714428933/?ref_=bo_ydw_table_189',\n",
       " 'https://www.boxofficemojo.com/releasegroup/gr3130413573/?ref_=bo_ydw_table_190',\n",
       " 'https://www.boxofficemojo.com/releasegroup/gr2576765445/?ref_=bo_ydw_table_191',\n",
       " 'https://www.boxofficemojo.com/releasegroup/gr1351897605/?ref_=bo_ydw_table_192',\n",
       " 'https://www.boxofficemojo.com/releasegroup/gr896160517/?ref_=bo_ydw_table_193',\n",
       " 'https://www.boxofficemojo.com/releasegroup/gr144069125/?ref_=bo_ydw_table_194',\n",
       " 'https://www.boxofficemojo.com/releasegroup/gr3060486917/?ref_=bo_ydw_table_195',\n",
       " 'https://www.boxofficemojo.com/releasegroup/gr848646661/?ref_=bo_ydw_table_196',\n",
       " 'https://www.boxofficemojo.com/releasegroup/gr3832238853/?ref_=bo_ydw_table_197',\n",
       " 'https://www.boxofficemojo.com/releasegroup/gr292180741/?ref_=bo_ydw_table_198']"
      ]
     },
     "execution_count": 37,
     "metadata": {},
     "output_type": "execute_result"
    }
   ],
   "source": [
    "getLinks('https://www.boxofficemojo.com/year/world/?ref_=bo_nb_tt_tab')"
   ]
  },
  {
   "cell_type": "code",
   "execution_count": 6,
   "id": "dcb437bbfe80f144",
   "metadata": {
    "ExecuteTime": {
     "end_time": "2024-05-01T00:23:41.493413Z",
     "start_time": "2024-05-01T00:23:41.478010Z"
    }
   },
   "outputs": [],
   "source": [
    "def get_all_links_old(listOfYear):\n",
    "    movies = []\n",
    "    for year in listOfYear.values():\n",
    "        movies.append(getLinks(year))\n",
    "    movies = list(np.concatenate(movies).flat)\n",
    "    return movies"
   ]
  },
  {
   "cell_type": "markdown",
   "id": "92c8bd02",
   "metadata": {},
   "source": [
    "> [!NOTE]  \n",
    "> Begin"
   ]
  },
  {
   "cell_type": "code",
   "execution_count": 32,
   "id": "fc9c0a29",
   "metadata": {},
   "outputs": [],
   "source": [
    "def get_all_links(next_list):\n",
    "    movies = []\n",
    "    for year in next_list.values():\n",
    "        movies.append(getLinks(year))\n",
    "    movies = list(np.concatenate(movies).flat)\n",
    "    return movies"
   ]
  },
  {
   "cell_type": "code",
   "execution_count": 16,
   "id": "a1a09b62a395ed35",
   "metadata": {
    "ExecuteTime": {
     "end_time": "2024-05-01T00:28:21.314734Z",
     "start_time": "2024-05-01T00:24:58.618311Z"
    }
   },
   "outputs": [],
   "source": [
    "new_info = get_all_links(next_list)"
   ]
  },
  {
   "cell_type": "code",
   "execution_count": 17,
   "id": "afaf74029bf6eca6",
   "metadata": {
    "ExecuteTime": {
     "end_time": "2024-04-30T17:00:16.640440Z",
     "start_time": "2024-04-30T17:00:16.630035Z"
    }
   },
   "outputs": [
    {
     "data": {
      "text/plain": [
       "2970"
      ]
     },
     "execution_count": 17,
     "metadata": {},
     "output_type": "execute_result"
    }
   ],
   "source": [
    "len(new_info)"
   ]
  },
  {
   "cell_type": "markdown",
   "id": "3dc2b170",
   "metadata": {},
   "source": [
    "> [!NOTE]  \n",
    "> Đến đây là phần đứa nào đứa nấy crawl nhé"
   ]
  },
  {
   "cell_type": "code",
   "execution_count": 33,
   "id": "635108db48b79a8",
   "metadata": {
    "ExecuteTime": {
     "end_time": "2024-05-01T00:28:33.543356Z",
     "start_time": "2024-05-01T00:28:33.536686Z"
    }
   },
   "outputs": [],
   "source": [
    "# PTrang\n",
    "info_1 = new_info[0:200]\n",
    "info_2 = new_info[200:400]\n",
    "info_3 = new_info[400:600]\n",
    "info_4 = new_info[600:800]\n",
    "info_5 = new_info[800:1000]\n",
    "# Huong\n",
    "info_6 = new_info[1000:1200]\n",
    "info_7 = new_info[1200:1400]\n",
    "info_8 = new_info[1400:1600]\n",
    "info_9 = new_info[1400:1600]\n",
    "info_10 = new_info[1600:1800]\n",
    "# DTrang\n",
    "info_11 = new_info[1800:2000]\n",
    "info_12 = new_info[2000:2200]\n",
    "info_13 = new_info[2200:2400]\n",
    "info_14 = new_info[2400:2600]\n",
    "info_15 = new_info[2600:2800]\n",
    "info_16 = new_info[2800:]"
   ]
  },
  {
   "cell_type": "code",
   "execution_count": 20,
   "id": "2a0ccc032773704f",
   "metadata": {
    "ExecuteTime": {
     "end_time": "2024-04-30T17:01:14.776295Z",
     "start_time": "2024-04-30T17:01:14.752079Z"
    }
   },
   "outputs": [
    {
     "data": {
      "text/plain": [
       "['https://www.boxofficemojo.com/releasegroup/gr3765916165/?ref_=bo_ydw_table_29',\n",
       " 'https://www.boxofficemojo.com/releasegroup/gr238637573/?ref_=bo_ydw_table_30',\n",
       " 'https://www.boxofficemojo.com/releasegroup/gr1290686981/?ref_=bo_ydw_table_31',\n",
       " 'https://www.boxofficemojo.com/releasegroup/gr2948944389/?ref_=bo_ydw_table_32',\n",
       " 'https://www.boxofficemojo.com/releasegroup/gr4056699397/?ref_=bo_ydw_table_33',\n",
       " 'https://www.boxofficemojo.com/releasegroup/gr1428836869/?ref_=bo_ydw_table_34',\n",
       " 'https://www.boxofficemojo.com/releasegroup/gr3051966981/?ref_=bo_ydw_table_35',\n",
       " 'https://www.boxofficemojo.com/releasegroup/gr1007178245/?ref_=bo_ydw_table_36',\n",
       " 'https://www.boxofficemojo.com/releasegroup/gr3981791749/?ref_=bo_ydw_table_37',\n",
       " 'https://www.boxofficemojo.com/releasegroup/gr3857797637/?ref_=bo_ydw_table_38',\n",
       " 'https://www.boxofficemojo.com/releasegroup/gr3242545669/?ref_=bo_ydw_table_39',\n",
       " 'https://www.boxofficemojo.com/releasegroup/gr2430620165/?ref_=bo_ydw_table_40',\n",
       " 'https://www.boxofficemojo.com/releasegroup/gr3658306053/?ref_=bo_ydw_table_41',\n",
       " 'https://www.boxofficemojo.com/releasegroup/gr930763269/?ref_=bo_ydw_table_42',\n",
       " 'https://www.boxofficemojo.com/releasegroup/gr3699003909/?ref_=bo_ydw_table_43',\n",
       " 'https://www.boxofficemojo.com/releasegroup/gr4212216325/?ref_=bo_ydw_table_44',\n",
       " 'https://www.boxofficemojo.com/releasegroup/gr171332101/?ref_=bo_ydw_table_45',\n",
       " 'https://www.boxofficemojo.com/releasegroup/gr3262665221/?ref_=bo_ydw_table_46',\n",
       " 'https://www.boxofficemojo.com/releasegroup/gr735859205/?ref_=bo_ydw_table_47',\n",
       " 'https://www.boxofficemojo.com/releasegroup/gr3036369413/?ref_=bo_ydw_table_48',\n",
       " 'https://www.boxofficemojo.com/releasegroup/gr47206917/?ref_=bo_ydw_table_49',\n",
       " 'https://www.boxofficemojo.com/releasegroup/gr2345095685/?ref_=bo_ydw_table_50',\n",
       " 'https://www.boxofficemojo.com/releasegroup/gr3758903813/?ref_=bo_ydw_table_51',\n",
       " 'https://www.boxofficemojo.com/releasegroup/gr1152012805/?ref_=bo_ydw_table_52',\n",
       " 'https://www.boxofficemojo.com/releasegroup/gr4078850565/?ref_=bo_ydw_table_53',\n",
       " 'https://www.boxofficemojo.com/releasegroup/gr719278597/?ref_=bo_ydw_table_54',\n",
       " 'https://www.boxofficemojo.com/releasegroup/gr2721534469/?ref_=bo_ydw_table_55',\n",
       " 'https://www.boxofficemojo.com/releasegroup/gr3981857285/?ref_=bo_ydw_table_56',\n",
       " 'https://www.boxofficemojo.com/releasegroup/gr2605994501/?ref_=bo_ydw_table_57',\n",
       " 'https://www.boxofficemojo.com/releasegroup/gr2909295109/?ref_=bo_ydw_table_58',\n",
       " 'https://www.boxofficemojo.com/releasegroup/gr205738501/?ref_=bo_ydw_table_59',\n",
       " 'https://www.boxofficemojo.com/releasegroup/gr1321947653/?ref_=bo_ydw_table_60',\n",
       " 'https://www.boxofficemojo.com/releasegroup/gr2968080901/?ref_=bo_ydw_table_61',\n",
       " 'https://www.boxofficemojo.com/releasegroup/gr348344837/?ref_=bo_ydw_table_62',\n",
       " 'https://www.boxofficemojo.com/releasegroup/gr2081182213/?ref_=bo_ydw_table_63',\n",
       " 'https://www.boxofficemojo.com/releasegroup/gr2578141701/?ref_=bo_ydw_table_64',\n",
       " 'https://www.boxofficemojo.com/releasegroup/gr1531793925/?ref_=bo_ydw_table_65',\n",
       " 'https://www.boxofficemojo.com/releasegroup/gr3826471429/?ref_=bo_ydw_table_66',\n",
       " 'https://www.boxofficemojo.com/releasegroup/gr4139930117/?ref_=bo_ydw_table_67',\n",
       " 'https://www.boxofficemojo.com/releasegroup/gr2771210757/?ref_=bo_ydw_table_68',\n",
       " 'https://www.boxofficemojo.com/releasegroup/gr2517193221/?ref_=bo_ydw_table_69',\n",
       " 'https://www.boxofficemojo.com/releasegroup/gr2041270789/?ref_=bo_ydw_table_70',\n",
       " 'https://www.boxofficemojo.com/releasegroup/gr1806193157/?ref_=bo_ydw_table_71',\n",
       " 'https://www.boxofficemojo.com/releasegroup/gr376197637/?ref_=bo_ydw_table_72',\n",
       " 'https://www.boxofficemojo.com/releasegroup/gr154948101/?ref_=bo_ydw_table_73',\n",
       " 'https://www.boxofficemojo.com/releasegroup/gr742085125/?ref_=bo_ydw_table_74',\n",
       " 'https://www.boxofficemojo.com/releasegroup/gr1946636805/?ref_=bo_ydw_table_75',\n",
       " 'https://www.boxofficemojo.com/releasegroup/gr605311493/?ref_=bo_ydw_table_76',\n",
       " 'https://www.boxofficemojo.com/releasegroup/gr1415139845/?ref_=bo_ydw_table_77',\n",
       " 'https://www.boxofficemojo.com/releasegroup/gr1813860869/?ref_=bo_ydw_table_78',\n",
       " 'https://www.boxofficemojo.com/releasegroup/gr2668581381/?ref_=bo_ydw_table_79',\n",
       " 'https://www.boxofficemojo.com/releasegroup/gr1512002053/?ref_=bo_ydw_table_80',\n",
       " 'https://www.boxofficemojo.com/releasegroup/gr3559084549/?ref_=bo_ydw_table_81',\n",
       " 'https://www.boxofficemojo.com/releasegroup/gr2648658437/?ref_=bo_ydw_table_82',\n",
       " 'https://www.boxofficemojo.com/releasegroup/gr186012165/?ref_=bo_ydw_table_83',\n",
       " 'https://www.boxofficemojo.com/releasegroup/gr4266217989/?ref_=bo_ydw_table_84',\n",
       " 'https://www.boxofficemojo.com/releasegroup/gr3525005829/?ref_=bo_ydw_table_85',\n",
       " 'https://www.boxofficemojo.com/releasegroup/gr2896777733/?ref_=bo_ydw_table_86',\n",
       " 'https://www.boxofficemojo.com/releasegroup/gr1206014469/?ref_=bo_ydw_table_87',\n",
       " 'https://www.boxofficemojo.com/releasegroup/gr3288289797/?ref_=bo_ydw_table_88',\n",
       " 'https://www.boxofficemojo.com/releasegroup/gr1443844613/?ref_=bo_ydw_table_89',\n",
       " 'https://www.boxofficemojo.com/releasegroup/gr2485408261/?ref_=bo_ydw_table_90',\n",
       " 'https://www.boxofficemojo.com/releasegroup/gr2851295749/?ref_=bo_ydw_table_91',\n",
       " 'https://www.boxofficemojo.com/releasegroup/gr2286768645/?ref_=bo_ydw_table_92',\n",
       " 'https://www.boxofficemojo.com/releasegroup/gr3661255173/?ref_=bo_ydw_table_93',\n",
       " 'https://www.boxofficemojo.com/releasegroup/gr4094054917/?ref_=bo_ydw_table_94',\n",
       " 'https://www.boxofficemojo.com/releasegroup/gr3965604357/?ref_=bo_ydw_table_95',\n",
       " 'https://www.boxofficemojo.com/releasegroup/gr2143506949/?ref_=bo_ydw_table_96',\n",
       " 'https://www.boxofficemojo.com/releasegroup/gr4249047557/?ref_=bo_ydw_table_97',\n",
       " 'https://www.boxofficemojo.com/releasegroup/gr1256739333/?ref_=bo_ydw_table_98',\n",
       " 'https://www.boxofficemojo.com/releasegroup/gr1037586949/?ref_=bo_ydw_table_99',\n",
       " 'https://www.boxofficemojo.com/releasegroup/gr2154123781/?ref_=bo_ydw_table_100',\n",
       " 'https://www.boxofficemojo.com/releasegroup/gr2020692485/?ref_=bo_ydw_table_101',\n",
       " 'https://www.boxofficemojo.com/releasegroup/gr1104302597/?ref_=bo_ydw_table_102',\n",
       " 'https://www.boxofficemojo.com/releasegroup/gr1662276101/?ref_=bo_ydw_table_103',\n",
       " 'https://www.boxofficemojo.com/releasegroup/gr593580549/?ref_=bo_ydw_table_104',\n",
       " 'https://www.boxofficemojo.com/releasegroup/gr1699172869/?ref_=bo_ydw_table_105',\n",
       " 'https://www.boxofficemojo.com/releasegroup/gr1678463493/?ref_=bo_ydw_table_106',\n",
       " 'https://www.boxofficemojo.com/releasegroup/gr3169997317/?ref_=bo_ydw_table_107',\n",
       " 'https://www.boxofficemojo.com/releasegroup/gr2732478981/?ref_=bo_ydw_table_108',\n",
       " 'https://www.boxofficemojo.com/releasegroup/gr1497059845/?ref_=bo_ydw_table_109',\n",
       " 'https://www.boxofficemojo.com/releasegroup/gr309547525/?ref_=bo_ydw_table_110',\n",
       " 'https://www.boxofficemojo.com/releasegroup/gr3613217285/?ref_=bo_ydw_table_111',\n",
       " 'https://www.boxofficemojo.com/releasegroup/gr1307005445/?ref_=bo_ydw_table_112',\n",
       " 'https://www.boxofficemojo.com/releasegroup/gr2474004997/?ref_=bo_ydw_table_113',\n",
       " 'https://www.boxofficemojo.com/releasegroup/gr3166786053/?ref_=bo_ydw_table_114',\n",
       " 'https://www.boxofficemojo.com/releasegroup/gr3077198341/?ref_=bo_ydw_table_115',\n",
       " 'https://www.boxofficemojo.com/releasegroup/gr3370340869/?ref_=bo_ydw_table_116',\n",
       " 'https://www.boxofficemojo.com/releasegroup/gr2968605189/?ref_=bo_ydw_table_117',\n",
       " 'https://www.boxofficemojo.com/releasegroup/gr2687455749/?ref_=bo_ydw_table_118',\n",
       " 'https://www.boxofficemojo.com/releasegroup/gr852709893/?ref_=bo_ydw_table_119',\n",
       " 'https://www.boxofficemojo.com/releasegroup/gr718688773/?ref_=bo_ydw_table_120',\n",
       " 'https://www.boxofficemojo.com/releasegroup/gr308630021/?ref_=bo_ydw_table_121',\n",
       " 'https://www.boxofficemojo.com/releasegroup/gr3830338053/?ref_=bo_ydw_table_122',\n",
       " 'https://www.boxofficemojo.com/releasegroup/gr3497153029/?ref_=bo_ydw_table_123',\n",
       " 'https://www.boxofficemojo.com/releasegroup/gr1260147205/?ref_=bo_ydw_table_124',\n",
       " 'https://www.boxofficemojo.com/releasegroup/gr2984202757/?ref_=bo_ydw_table_125',\n",
       " 'https://www.boxofficemojo.com/releasegroup/gr3220853253/?ref_=bo_ydw_table_126',\n",
       " 'https://www.boxofficemojo.com/releasegroup/gr505696773/?ref_=bo_ydw_table_127',\n",
       " 'https://www.boxofficemojo.com/releasegroup/gr7623173/?ref_=bo_ydw_table_128',\n",
       " 'https://www.boxofficemojo.com/releasegroup/gr2387628549/?ref_=bo_ydw_table_129',\n",
       " 'https://www.boxofficemojo.com/releasegroup/gr3121041925/?ref_=bo_ydw_table_130',\n",
       " 'https://www.boxofficemojo.com/releasegroup/gr906187269/?ref_=bo_ydw_table_131',\n",
       " 'https://www.boxofficemojo.com/releasegroup/gr4030550533/?ref_=bo_ydw_table_132',\n",
       " 'https://www.boxofficemojo.com/releasegroup/gr1155551749/?ref_=bo_ydw_table_133',\n",
       " 'https://www.boxofficemojo.com/releasegroup/gr2431144453/?ref_=bo_ydw_table_134',\n",
       " 'https://www.boxofficemojo.com/releasegroup/gr2675921413/?ref_=bo_ydw_table_135',\n",
       " 'https://www.boxofficemojo.com/releasegroup/gr3962589701/?ref_=bo_ydw_table_136',\n",
       " 'https://www.boxofficemojo.com/releasegroup/gr4177220101/?ref_=bo_ydw_table_137',\n",
       " 'https://www.boxofficemojo.com/releasegroup/gr650138117/?ref_=bo_ydw_table_138',\n",
       " 'https://www.boxofficemojo.com/releasegroup/gr2456834565/?ref_=bo_ydw_table_139',\n",
       " 'https://www.boxofficemojo.com/releasegroup/gr2153665029/?ref_=bo_ydw_table_140',\n",
       " 'https://www.boxofficemojo.com/releasegroup/gr2805682693/?ref_=bo_ydw_table_141',\n",
       " 'https://www.boxofficemojo.com/releasegroup/gr2499432965/?ref_=bo_ydw_table_142',\n",
       " 'https://www.boxofficemojo.com/releasegroup/gr4183446021/?ref_=bo_ydw_table_143',\n",
       " 'https://www.boxofficemojo.com/releasegroup/gr3494466053/?ref_=bo_ydw_table_144',\n",
       " 'https://www.boxofficemojo.com/releasegroup/gr3111604741/?ref_=bo_ydw_table_145',\n",
       " 'https://www.boxofficemojo.com/releasegroup/gr2263306757/?ref_=bo_ydw_table_146',\n",
       " 'https://www.boxofficemojo.com/releasegroup/gr1623478789/?ref_=bo_ydw_table_147',\n",
       " 'https://www.boxofficemojo.com/releasegroup/gr3596636677/?ref_=bo_ydw_table_148',\n",
       " 'https://www.boxofficemojo.com/releasegroup/gr3624620549/?ref_=bo_ydw_table_149',\n",
       " 'https://www.boxofficemojo.com/releasegroup/gr3459076613/?ref_=bo_ydw_table_150',\n",
       " 'https://www.boxofficemojo.com/releasegroup/gr1794855429/?ref_=bo_ydw_table_151',\n",
       " 'https://www.boxofficemojo.com/releasegroup/gr3576254981/?ref_=bo_ydw_table_152',\n",
       " 'https://www.boxofficemojo.com/releasegroup/gr174019077/?ref_=bo_ydw_table_153',\n",
       " 'https://www.boxofficemojo.com/releasegroup/gr2282574341/?ref_=bo_ydw_table_154',\n",
       " 'https://www.boxofficemojo.com/releasegroup/gr3760935429/?ref_=bo_ydw_table_155',\n",
       " 'https://www.boxofficemojo.com/releasegroup/gr3102364165/?ref_=bo_ydw_table_156',\n",
       " 'https://www.boxofficemojo.com/releasegroup/gr3389018629/?ref_=bo_ydw_table_157',\n",
       " 'https://www.boxofficemojo.com/releasegroup/gr2507428357/?ref_=bo_ydw_table_158',\n",
       " 'https://www.boxofficemojo.com/releasegroup/gr166416901/?ref_=bo_ydw_table_159',\n",
       " 'https://www.boxofficemojo.com/releasegroup/gr1581797893/?ref_=bo_ydw_table_160',\n",
       " 'https://www.boxofficemojo.com/releasegroup/gr3611120133/?ref_=bo_ydw_table_161',\n",
       " 'https://www.boxofficemojo.com/releasegroup/gr3285602821/?ref_=bo_ydw_table_162',\n",
       " 'https://www.boxofficemojo.com/releasegroup/gr2167165445/?ref_=bo_ydw_table_163',\n",
       " 'https://www.boxofficemojo.com/releasegroup/gr3136770565/?ref_=bo_ydw_table_164',\n",
       " 'https://www.boxofficemojo.com/releasegroup/gr1578455557/?ref_=bo_ydw_table_165',\n",
       " 'https://www.boxofficemojo.com/releasegroup/gr3837874693/?ref_=bo_ydw_table_166',\n",
       " 'https://www.boxofficemojo.com/releasegroup/gr2716750341/?ref_=bo_ydw_table_167',\n",
       " 'https://www.boxofficemojo.com/releasegroup/gr2834125317/?ref_=bo_ydw_table_168',\n",
       " 'https://www.boxofficemojo.com/releasegroup/gr1241141765/?ref_=bo_ydw_table_169',\n",
       " 'https://www.boxofficemojo.com/releasegroup/gr476271109/?ref_=bo_ydw_table_170',\n",
       " 'https://www.boxofficemojo.com/releasegroup/gr2100187653/?ref_=bo_ydw_table_171',\n",
       " 'https://www.boxofficemojo.com/releasegroup/gr2288734725/?ref_=bo_ydw_table_172',\n",
       " 'https://www.boxofficemojo.com/releasegroup/gr2003784197/?ref_=bo_ydw_table_173',\n",
       " 'https://www.boxofficemojo.com/releasegroup/gr1732399621/?ref_=bo_ydw_table_174',\n",
       " 'https://www.boxofficemojo.com/releasegroup/gr2015580677/?ref_=bo_ydw_table_175',\n",
       " 'https://www.boxofficemojo.com/releasegroup/gr4158083589/?ref_=bo_ydw_table_176',\n",
       " 'https://www.boxofficemojo.com/releasegroup/gr1474318853/?ref_=bo_ydw_table_177',\n",
       " 'https://www.boxofficemojo.com/releasegroup/gr2541048325/?ref_=bo_ydw_table_178',\n",
       " 'https://www.boxofficemojo.com/releasegroup/gr4286009861/?ref_=bo_ydw_table_179',\n",
       " 'https://www.boxofficemojo.com/releasegroup/gr3658633733/?ref_=bo_ydw_table_180',\n",
       " 'https://www.boxofficemojo.com/releasegroup/gr1892176389/?ref_=bo_ydw_table_181',\n",
       " 'https://www.boxofficemojo.com/releasegroup/gr1187926533/?ref_=bo_ydw_table_182',\n",
       " 'https://www.boxofficemojo.com/releasegroup/gr2783465989/?ref_=bo_ydw_table_183',\n",
       " 'https://www.boxofficemojo.com/releasegroup/gr1613910533/?ref_=bo_ydw_table_184',\n",
       " 'https://www.boxofficemojo.com/releasegroup/gr1094603269/?ref_=bo_ydw_table_185',\n",
       " 'https://www.boxofficemojo.com/releasegroup/gr2236436997/?ref_=bo_ydw_table_186',\n",
       " 'https://www.boxofficemojo.com/releasegroup/gr661279237/?ref_=bo_ydw_table_187',\n",
       " 'https://www.boxofficemojo.com/releasegroup/gr885805573/?ref_=bo_ydw_table_188',\n",
       " 'https://www.boxofficemojo.com/releasegroup/gr1191793157/?ref_=bo_ydw_table_189',\n",
       " 'https://www.boxofficemojo.com/releasegroup/gr4077212165/?ref_=bo_ydw_table_190',\n",
       " 'https://www.boxofficemojo.com/releasegroup/gr4231483909/?ref_=bo_ydw_table_191',\n",
       " 'https://www.boxofficemojo.com/releasegroup/gr2638893573/?ref_=bo_ydw_table_192',\n",
       " 'https://www.boxofficemojo.com/releasegroup/gr1346851333/?ref_=bo_ydw_table_193',\n",
       " 'https://www.boxofficemojo.com/releasegroup/gr4224012805/?ref_=bo_ydw_table_194',\n",
       " 'https://www.boxofficemojo.com/releasegroup/gr2393461253/?ref_=bo_ydw_table_195',\n",
       " 'https://www.boxofficemojo.com/releasegroup/gr1381716485/?ref_=bo_ydw_table_196',\n",
       " 'https://www.boxofficemojo.com/releasegroup/gr69227013/?ref_=bo_ydw_table_197',\n",
       " 'https://www.boxofficemojo.com/releasegroup/gr2833469957/?ref_=bo_ydw_table_198']"
      ]
     },
     "execution_count": 20,
     "metadata": {},
     "output_type": "execute_result"
    }
   ],
   "source": [
    "info_16"
   ]
  },
  {
   "cell_type": "code",
   "execution_count": 34,
   "id": "5282a40dbc411b9",
   "metadata": {
    "ExecuteTime": {
     "end_time": "2024-04-30T16:02:29.384854Z",
     "start_time": "2024-04-30T16:02:29.366840Z"
    }
   },
   "outputs": [],
   "source": [
    "# Các cột mong muốn\n",
    "desired_columns = [\n",
    "    'Domestic Opening',\n",
    "    'Name',\n",
    "    'Domestic Distributor',\n",
    "    'Earliest Release Date',\n",
    "    'MPAA',\n",
    "    'Running Time',\n",
    "    'Genres',\n",
    "    'Overview',\n",
    "    'Actors',\n",
    "    'Film makers'\n",
    "]"
   ]
  },
  {
   "cell_type": "code",
   "execution_count": 35,
   "id": "358ec6eab11f1263",
   "metadata": {
    "ExecuteTime": {
     "end_time": "2024-05-01T00:28:42.923050Z",
     "start_time": "2024-05-01T00:28:40.463982Z"
    }
   },
   "outputs": [],
   "source": [
    "# service = Service(EdgeChromiumDriverManager().install())\n",
    "def getMoviesInfo(links):\n",
    "    movies_info = []\n",
    "    for link in links:\n",
    "        try:\n",
    "            movies_info.append(get_info(link))\n",
    "        except Exception:\n",
    "            movies_info.append(np.nan)\n",
    "    return movies_info"
   ]
  },
  {
   "cell_type": "code",
   "execution_count": 36,
   "id": "b14a3eda",
   "metadata": {},
   "outputs": [],
   "source": [
    "def normalize_and_save(movies_info, file_suffix):\n",
    "    normalized_data = []\n",
    "    for d in movies_info: \n",
    "        try: \n",
    "            normalized_d = {col: d.get(col, np.nan) for col in desired_columns}\n",
    "            normalized_data.append(normalized_d)\n",
    "        except AttributeError:\n",
    "            pass\n",
    "    df = pd.DataFrame(normalized_data)\n",
    "    current_directory = os.getcwd()\n",
    "    movies_path = os.path.join(current_directory, f'movies_{file_suffix}.csv')\n",
    "    df.to_csv(movies_path, mode='a', index=False, sep=',', encoding='utf-8')"
   ]
  },
  {
   "cell_type": "code",
   "execution_count": 39,
   "id": "1e7dbdcfaf9fd6a",
   "metadata": {
    "ExecuteTime": {
     "start_time": "2024-05-01T00:28:43.874015Z"
    },
    "jupyter": {
     "is_executing": true
    }
   },
   "outputs": [],
   "source": [
    "movies_1= getMoviesInfo(info_1)"
   ]
  },
  {
   "cell_type": "code",
   "execution_count": 40,
   "id": "32310ed1",
   "metadata": {},
   "outputs": [],
   "source": [
    "normalize_and_save(movies_1, '1')"
   ]
  },
  {
   "cell_type": "code",
   "execution_count": 41,
   "id": "a27590ef238b0dea",
   "metadata": {
    "ExecuteTime": {
     "end_time": "2024-04-30T17:57:40.398566Z",
     "start_time": "2024-04-30T17:57:40.383304Z"
    }
   },
   "outputs": [],
   "source": [
    "movies_2 = getMoviesInfo(info_2)"
   ]
  },
  {
   "cell_type": "code",
   "execution_count": 42,
   "metadata": {},
   "outputs": [],
   "source": [
    "normalize_and_save(movies_2, '2')"
   ]
  },
  {
   "cell_type": "code",
   "execution_count": 43,
   "id": "7ccfbfb3e918cd64",
   "metadata": {},
   "outputs": [],
   "source": [
    "movies_3= getMoviesInfo(info_3)"
   ]
  },
  {
   "cell_type": "code",
   "execution_count": 44,
   "id": "03d26cb9",
   "metadata": {},
   "outputs": [],
   "source": [
    "normalize_and_save(movies_3, '3')"
   ]
  },
  {
   "cell_type": "code",
   "execution_count": 45,
   "id": "c0c576fc287e9e73",
   "metadata": {},
   "outputs": [],
   "source": [
    "movies_4= getMoviesInfo(info_4)"
   ]
  },
  {
   "cell_type": "code",
   "execution_count": 46,
   "id": "7479caa9",
   "metadata": {},
   "outputs": [],
   "source": [
    "normalize_and_save(movies_4, '4')"
   ]
  },
  {
   "cell_type": "code",
   "execution_count": 12,
   "id": "1b030929",
   "metadata": {},
   "outputs": [
    {
     "name": "stdout",
     "output_type": "stream",
     "text": [
      "{'Domestic Distributor': 'Walt Disney Studios Motion Pictures', 'Domestic Opening': '$357,115,007', 'Earliest Release Date': 'April 24, 2019 (21 markets)', 'MPAA': 'PG-13', 'Running Time': '3 hr 1 min', 'Genres': nan, 'Overview': \"After the devastating events of Avengers: Infinity War, the universe is in ruins. With the help of remaining allies, the Avengers assemble once more in order to reverse Thanos' actions and restore balance to the universe.\", 'Film makers': ['Anthony Russo', 'Joe Russo', 'Christopher Markus', 'Stephen McFeely', 'Stan Lee', 'Jack Kirby', 'Joe Simon', 'Jack Kirby', 'Steve Englehart', 'Steve Gan', 'Bill Mantlo', 'Keith Giffen', 'Jim Starlin', 'Stan Lee', 'Larry Lieber', 'Jack Kirby', 'Steve Englehart', 'Don Heck', 'Kevin Feige', 'Alan Silvestri', 'Trent Opaloch', 'Jeffrey Ford', 'Matthew Schmidt', 'Charles Wood'], 'Actors': ['Robert Downey Jr.', 'Chris Evans', 'Mark Ruffalo', 'Chris Hemsworth'], 'Name': 'Avengers: Endgame'}\n"
     ]
    }
   ],
   "source": [
    "print(movies_info_4[0])"
   ]
  },
  {
   "cell_type": "code",
   "execution_count": 15,
   "id": "464e4d41",
   "metadata": {},
   "outputs": [
    {
     "name": "stdout",
     "output_type": "stream",
     "text": [
      "450\n"
     ]
    }
   ],
   "source": [
    "print(len(movies_info_4))"
   ]
  },
  {
   "cell_type": "code",
   "execution_count": 47,
   "id": "5d64bfe6c660e030",
   "metadata": {},
   "outputs": [],
   "source": [
    "movies_5= getMoviesInfo(info_5)"
   ]
  },
  {
   "cell_type": "code",
   "execution_count": 48,
   "id": "30fe83ea",
   "metadata": {},
   "outputs": [],
   "source": [
    "normalize_and_save(movies_5, '5')"
   ]
  },
  {
   "cell_type": "code",
   "execution_count": null,
   "id": "11fbfa21",
   "metadata": {},
   "outputs": [],
   "source": [
    "movies_6= getMoviesInfo(info_6)"
   ]
  },
  {
   "cell_type": "code",
   "execution_count": null,
   "id": "26372af0",
   "metadata": {},
   "outputs": [],
   "source": [
    "normalize_and_save(movies_6, '6')"
   ]
  },
  {
   "cell_type": "code",
   "execution_count": 11,
   "id": "8ecddf7a",
   "metadata": {},
   "outputs": [
    {
     "name": "stdout",
     "output_type": "stream",
     "text": [
      "150\n"
     ]
    }
   ],
   "source": [
    "movies_7= getMoviesInfo(info_7)\n",
    "print(len(movies_info_7))"
   ]
  },
  {
   "cell_type": "code",
   "execution_count": null,
   "id": "dcd367a1",
   "metadata": {},
   "outputs": [],
   "source": [
    "normalize_and_save(movies_7, '7')"
   ]
  },
  {
   "cell_type": "code",
   "execution_count": null,
   "id": "60ce4d24",
   "metadata": {},
   "outputs": [],
   "source": [
    "movies_8= getMoviesInfo(info_8)"
   ]
  },
  {
   "cell_type": "code",
   "execution_count": null,
   "id": "ac0b82d7",
   "metadata": {},
   "outputs": [],
   "source": [
    "normalize_and_save(movies_8, '8')"
   ]
  },
  {
   "cell_type": "code",
   "execution_count": null,
   "id": "e4dede96",
   "metadata": {},
   "outputs": [],
   "source": [
    "movies_9=getMoviesInfo(info_9)"
   ]
  },
  {
   "cell_type": "code",
   "execution_count": null,
   "id": "054c7779",
   "metadata": {},
   "outputs": [],
   "source": [
    "normalize_and_save(movies_9, '9')"
   ]
  },
  {
   "cell_type": "code",
   "execution_count": null,
   "id": "9c087762",
   "metadata": {},
   "outputs": [],
   "source": [
    "movies_10= getMoviesInfo(info_10)"
   ]
  },
  {
   "cell_type": "code",
   "execution_count": null,
   "id": "3253f36d",
   "metadata": {},
   "outputs": [],
   "source": [
    "normalize_and_save(movies_10, '10')"
   ]
  },
  {
   "cell_type": "code",
   "execution_count": null,
   "id": "78b6bf68",
   "metadata": {},
   "outputs": [],
   "source": [
    "movies_11= getMoviesInfo(info_11)"
   ]
  },
  {
   "cell_type": "code",
   "execution_count": null,
   "id": "611c664d",
   "metadata": {},
   "outputs": [],
   "source": [
    "normalize_and_save(movies_11, '11')"
   ]
  },
  {
   "cell_type": "code",
   "execution_count": null,
   "id": "1800a8bd",
   "metadata": {},
   "outputs": [],
   "source": [
    "movies_12= getMoviesInfo(info_12)"
   ]
  },
  {
   "cell_type": "code",
   "execution_count": null,
   "id": "79463df5",
   "metadata": {},
   "outputs": [],
   "source": [
    "normalize_and_save(movies_12, '12')"
   ]
  },
  {
   "cell_type": "code",
   "execution_count": null,
   "id": "b3f951dc",
   "metadata": {},
   "outputs": [],
   "source": [
    "movies_13= getMoviesInfo(info_13)"
   ]
  },
  {
   "cell_type": "code",
   "execution_count": null,
   "id": "479f958a",
   "metadata": {},
   "outputs": [],
   "source": [
    "normalize_and_save(movies_13, '13')"
   ]
  },
  {
   "cell_type": "code",
   "execution_count": null,
   "id": "c2093d85",
   "metadata": {},
   "outputs": [],
   "source": [
    "movies_14= getMoviesInfo(info_14)"
   ]
  },
  {
   "cell_type": "code",
   "execution_count": null,
   "id": "97fd5e64",
   "metadata": {},
   "outputs": [],
   "source": [
    "normalize_and_save(movies_14, '14')"
   ]
  },
  {
   "cell_type": "code",
   "execution_count": null,
   "id": "d85a149c",
   "metadata": {},
   "outputs": [],
   "source": [
    "movies_15= getMoviesInfo(info_15)"
   ]
  },
  {
   "cell_type": "code",
   "execution_count": null,
   "id": "194d9ae4",
   "metadata": {},
   "outputs": [],
   "source": [
    "normalize_and_save(movies_15, '15')"
   ]
  },
  {
   "cell_type": "code",
   "execution_count": null,
   "id": "e70d899b",
   "metadata": {},
   "outputs": [],
   "source": [
    "movies_16= getMoviesInfo(info_16)"
   ]
  },
  {
   "cell_type": "code",
   "execution_count": null,
   "id": "2255b217",
   "metadata": {},
   "outputs": [],
   "source": [
    "normalize_and_save(movies_16, '16')"
   ]
  },
  {
   "cell_type": "code",
   "execution_count": 42,
   "id": "8ce6f51426fa6439",
   "metadata": {
    "ExecuteTime": {
     "end_time": "2024-04-26T07:05:51.927565Z",
     "start_time": "2024-04-26T07:05:51.919267Z"
    }
   },
   "outputs": [
    {
     "data": {
      "text/plain": [
       "(201, 8)"
      ]
     },
     "execution_count": 42,
     "metadata": {},
     "output_type": "execute_result"
    }
   ],
   "source": [
    "data.shape"
   ]
  },
  {
   "cell_type": "code",
   "execution_count": 51,
   "id": "7bdfef17edb068df",
   "metadata": {
    "ExecuteTime": {
     "end_time": "2024-04-26T07:37:52.329962Z",
     "start_time": "2024-04-26T07:37:52.322726Z"
    }
   },
   "outputs": [
    {
     "name": "stdout",
     "output_type": "stream",
     "text": [
      "<class 'pandas.core.frame.DataFrame'>\n",
      "RangeIndex: 201 entries, 0 to 200\n",
      "Data columns (total 8 columns):\n",
      " #   Column         Non-Null Count  Dtype \n",
      "---  ------         --------------  ----- \n",
      " 0   Rank           200 non-null    object\n",
      " 1   Release Group  200 non-null    object\n",
      " 2   Worldwide      200 non-null    object\n",
      " 3   Domestic       200 non-null    object\n",
      " 4   %              200 non-null    object\n",
      " 5   Foreign        200 non-null    object\n",
      " 6   %              200 non-null    object\n",
      " 7   Year           201 non-null    int32 \n",
      "dtypes: int32(1), object(7)\n",
      "memory usage: 11.9+ KB\n"
     ]
    }
   ],
   "source": [
    "data.info()"
   ]
  },
  {
   "cell_type": "code",
   "execution_count": 44,
   "id": "665dba49b014e059",
   "metadata": {
    "ExecuteTime": {
     "end_time": "2024-04-26T07:06:03.825933Z",
     "start_time": "2024-04-26T07:06:03.813534Z"
    }
   },
   "outputs": [
    {
     "data": {
      "text/html": [
       "<div>\n",
       "<style scoped>\n",
       "    .dataframe tbody tr th:only-of-type {\n",
       "        vertical-align: middle;\n",
       "    }\n",
       "\n",
       "    .dataframe tbody tr th {\n",
       "        vertical-align: top;\n",
       "    }\n",
       "\n",
       "    .dataframe thead th {\n",
       "        text-align: right;\n",
       "    }\n",
       "</style>\n",
       "<table border=\"1\" class=\"dataframe\">\n",
       "  <thead>\n",
       "    <tr style=\"text-align: right;\">\n",
       "      <th></th>\n",
       "      <th>Rank</th>\n",
       "      <th>Release Group</th>\n",
       "      <th>Worldwide</th>\n",
       "      <th>Domestic</th>\n",
       "      <th>%</th>\n",
       "      <th>Foreign</th>\n",
       "      <th>%</th>\n",
       "      <th>Year</th>\n",
       "    </tr>\n",
       "  </thead>\n",
       "  <tbody>\n",
       "    <tr>\n",
       "      <th>0</th>\n",
       "      <td>1</td>\n",
       "      <td>Barbie</td>\n",
       "      <td>$1,445,638,421</td>\n",
       "      <td>$636,238,421</td>\n",
       "      <td>44%</td>\n",
       "      <td>$809,400,000</td>\n",
       "      <td>56%</td>\n",
       "      <td>2023</td>\n",
       "    </tr>\n",
       "    <tr>\n",
       "      <th>1</th>\n",
       "      <td>2</td>\n",
       "      <td>The Super Mario Bros. Movie</td>\n",
       "      <td>$1,362,029,918</td>\n",
       "      <td>$574,934,330</td>\n",
       "      <td>42.2%</td>\n",
       "      <td>$787,095,588</td>\n",
       "      <td>57.8%</td>\n",
       "      <td>2023</td>\n",
       "    </tr>\n",
       "    <tr>\n",
       "      <th>2</th>\n",
       "      <td>3</td>\n",
       "      <td>Oppenheimer</td>\n",
       "      <td>$971,612,566</td>\n",
       "      <td>$329,862,540</td>\n",
       "      <td>34%</td>\n",
       "      <td>$641,750,026</td>\n",
       "      <td>66%</td>\n",
       "      <td>2023</td>\n",
       "    </tr>\n",
       "    <tr>\n",
       "      <th>3</th>\n",
       "      <td>4</td>\n",
       "      <td>Guardians of the Galaxy Vol. 3</td>\n",
       "      <td>$845,555,777</td>\n",
       "      <td>$358,995,815</td>\n",
       "      <td>42.5%</td>\n",
       "      <td>$486,559,962</td>\n",
       "      <td>57.5%</td>\n",
       "      <td>2023</td>\n",
       "    </tr>\n",
       "    <tr>\n",
       "      <th>4</th>\n",
       "      <td>5</td>\n",
       "      <td>Fast X</td>\n",
       "      <td>$704,875,015</td>\n",
       "      <td>$146,126,015</td>\n",
       "      <td>20.7%</td>\n",
       "      <td>$558,749,000</td>\n",
       "      <td>79.3%</td>\n",
       "      <td>2023</td>\n",
       "    </tr>\n",
       "    <tr>\n",
       "      <th>...</th>\n",
       "      <td>...</td>\n",
       "      <td>...</td>\n",
       "      <td>...</td>\n",
       "      <td>...</td>\n",
       "      <td>...</td>\n",
       "      <td>...</td>\n",
       "      <td>...</td>\n",
       "      <td>...</td>\n",
       "    </tr>\n",
       "    <tr>\n",
       "      <th>196</th>\n",
       "      <td>197</td>\n",
       "      <td>Dream</td>\n",
       "      <td>$8,317,251</td>\n",
       "      <td>-</td>\n",
       "      <td>-</td>\n",
       "      <td>$8,317,251</td>\n",
       "      <td>100%</td>\n",
       "      <td>2023</td>\n",
       "    </tr>\n",
       "    <tr>\n",
       "      <th>197</th>\n",
       "      <td>198</td>\n",
       "      <td>Vacaciones de verano</td>\n",
       "      <td>$8,209,854</td>\n",
       "      <td>-</td>\n",
       "      <td>-</td>\n",
       "      <td>$8,209,854</td>\n",
       "      <td>100%</td>\n",
       "      <td>2023</td>\n",
       "    </tr>\n",
       "    <tr>\n",
       "      <th>198</th>\n",
       "      <td>199</td>\n",
       "      <td>On the Wandering Paths</td>\n",
       "      <td>$8,186,415</td>\n",
       "      <td>-</td>\n",
       "      <td>-</td>\n",
       "      <td>$8,186,415</td>\n",
       "      <td>100%</td>\n",
       "      <td>2023</td>\n",
       "    </tr>\n",
       "    <tr>\n",
       "      <th>199</th>\n",
       "      <td>200</td>\n",
       "      <td>Weekend Rebels</td>\n",
       "      <td>$8,184,539</td>\n",
       "      <td>-</td>\n",
       "      <td>-</td>\n",
       "      <td>$8,184,539</td>\n",
       "      <td>100%</td>\n",
       "      <td>2023</td>\n",
       "    </tr>\n",
       "    <tr>\n",
       "      <th>200</th>\n",
       "      <td>None</td>\n",
       "      <td>None</td>\n",
       "      <td>None</td>\n",
       "      <td>None</td>\n",
       "      <td>None</td>\n",
       "      <td>None</td>\n",
       "      <td>None</td>\n",
       "      <td>2023</td>\n",
       "    </tr>\n",
       "  </tbody>\n",
       "</table>\n",
       "<p>201 rows × 8 columns</p>\n",
       "</div>"
      ],
      "text/plain": [
       "     Rank                   Release Group       Worldwide      Domestic  \\\n",
       "0       1                          Barbie  $1,445,638,421  $636,238,421   \n",
       "1       2     The Super Mario Bros. Movie  $1,362,029,918  $574,934,330   \n",
       "2       3                     Oppenheimer    $971,612,566  $329,862,540   \n",
       "3       4  Guardians of the Galaxy Vol. 3    $845,555,777  $358,995,815   \n",
       "4       5                          Fast X    $704,875,015  $146,126,015   \n",
       "..    ...                             ...             ...           ...   \n",
       "196   197                           Dream      $8,317,251             -   \n",
       "197   198            Vacaciones de verano      $8,209,854             -   \n",
       "198   199          On the Wandering Paths      $8,186,415             -   \n",
       "199   200                  Weekend Rebels      $8,184,539             -   \n",
       "200  None                            None            None          None   \n",
       "\n",
       "         %       Foreign      %  Year  \n",
       "0      44%  $809,400,000    56%  2023  \n",
       "1    42.2%  $787,095,588  57.8%  2023  \n",
       "2      34%  $641,750,026    66%  2023  \n",
       "3    42.5%  $486,559,962  57.5%  2023  \n",
       "4    20.7%  $558,749,000  79.3%  2023  \n",
       "..     ...           ...    ...   ...  \n",
       "196      -    $8,317,251   100%  2023  \n",
       "197      -    $8,209,854   100%  2023  \n",
       "198      -    $8,186,415   100%  2023  \n",
       "199      -    $8,184,539   100%  2023  \n",
       "200   None          None   None  2023  \n",
       "\n",
       "[201 rows x 8 columns]"
      ]
     },
     "execution_count": 44,
     "metadata": {},
     "output_type": "execute_result"
    }
   ],
   "source": [
    "data"
   ]
  },
  {
   "cell_type": "code",
   "execution_count": 45,
   "id": "a3756063e9108b74",
   "metadata": {
    "ExecuteTime": {
     "end_time": "2024-04-26T07:06:10.344729Z",
     "start_time": "2024-04-26T07:06:10.338112Z"
    }
   },
   "outputs": [
    {
     "data": {
      "text/plain": [
       "dtype('O')"
      ]
     },
     "execution_count": 45,
     "metadata": {},
     "output_type": "execute_result"
    }
   ],
   "source": [
    "data['Year'].dtype"
   ]
  },
  {
   "cell_type": "code",
   "execution_count": 46,
   "id": "118cbaa17b9a0924",
   "metadata": {
    "ExecuteTime": {
     "end_time": "2024-04-26T07:06:13.992590Z",
     "start_time": "2024-04-26T07:06:13.986773Z"
    }
   },
   "outputs": [],
   "source": [
    "data['Year'] = data['Year'].astype(str)"
   ]
  },
  {
   "cell_type": "code",
   "execution_count": 47,
   "id": "3a32f84274655211",
   "metadata": {
    "ExecuteTime": {
     "end_time": "2024-04-26T07:06:15.812744Z",
     "start_time": "2024-04-26T07:06:15.803755Z"
    }
   },
   "outputs": [
    {
     "name": "stdout",
     "output_type": "stream",
     "text": [
      "<class 'pandas.core.frame.DataFrame'>\n",
      "RangeIndex: 201 entries, 0 to 200\n",
      "Data columns (total 8 columns):\n",
      " #   Column         Non-Null Count  Dtype \n",
      "---  ------         --------------  ----- \n",
      " 0   Rank           200 non-null    object\n",
      " 1   Release Group  200 non-null    object\n",
      " 2   Worldwide      200 non-null    object\n",
      " 3   Domestic       200 non-null    object\n",
      " 4   %              200 non-null    object\n",
      " 5   Foreign        200 non-null    object\n",
      " 6   %              200 non-null    object\n",
      " 7   Year           201 non-null    object\n",
      "dtypes: object(8)\n",
      "memory usage: 12.7+ KB\n"
     ]
    }
   ],
   "source": [
    "data.info()"
   ]
  },
  {
   "cell_type": "code",
   "execution_count": 49,
   "id": "b7df7264665b25f8",
   "metadata": {
    "ExecuteTime": {
     "end_time": "2024-04-26T07:06:36.032756Z",
     "start_time": "2024-04-26T07:06:36.028590Z"
    }
   },
   "outputs": [],
   "source": [
    "data['Year'] = data['Year'].astype(int)"
   ]
  },
  {
   "cell_type": "code",
   "execution_count": 50,
   "id": "dc6cc578e7a420ce",
   "metadata": {
    "ExecuteTime": {
     "end_time": "2024-04-26T07:06:41.499924Z",
     "start_time": "2024-04-26T07:06:41.493310Z"
    }
   },
   "outputs": [
    {
     "name": "stdout",
     "output_type": "stream",
     "text": [
      "<class 'pandas.core.frame.DataFrame'>\n",
      "RangeIndex: 201 entries, 0 to 200\n",
      "Data columns (total 8 columns):\n",
      " #   Column         Non-Null Count  Dtype \n",
      "---  ------         --------------  ----- \n",
      " 0   Rank           200 non-null    object\n",
      " 1   Release Group  200 non-null    object\n",
      " 2   Worldwide      200 non-null    object\n",
      " 3   Domestic       200 non-null    object\n",
      " 4   %              200 non-null    object\n",
      " 5   Foreign        200 non-null    object\n",
      " 6   %              200 non-null    object\n",
      " 7   Year           201 non-null    int32 \n",
      "dtypes: int32(1), object(7)\n",
      "memory usage: 11.9+ KB\n"
     ]
    }
   ],
   "source": [
    "data.info()"
   ]
  },
  {
   "cell_type": "code",
   "execution_count": null,
   "id": "5454de3bce59c825",
   "metadata": {},
   "outputs": [],
   "source": []
  },
  {
   "cell_type": "code",
   "execution_count": null,
   "id": "f9a19b7c4416f884",
   "metadata": {},
   "outputs": [],
   "source": []
  },
  {
   "cell_type": "code",
   "execution_count": null,
   "id": "987c508f36f06cd6",
   "metadata": {},
   "outputs": [],
   "source": []
  }
 ],
 "metadata": {
  "kernelspec": {
   "display_name": "Python 3",
   "language": "python",
   "name": "python3"
  },
  "language_info": {
   "codemirror_mode": {
    "name": "ipython",
    "version": 3
   },
   "file_extension": ".py",
   "mimetype": "text/x-python",
   "name": "python",
   "nbconvert_exporter": "python",
   "pygments_lexer": "ipython3",
   "version": "3.11.8"
  }
 },
 "nbformat": 4,
 "nbformat_minor": 5
}
